{
 "cells": [
  {
   "cell_type": "code",
   "execution_count": 1,
   "metadata": {},
   "outputs": [],
   "source": [
    "import pandas as pd\n",
    "import numpy as np\n",
    "import sklearn\n",
    "import matplotlib.pyplot as plt\n",
    "import nltk\n",
    "import spacy\n"
   ]
  },
  {
   "cell_type": "markdown",
   "metadata": {},
   "source": [
    "### Lets make a basic model first"
   ]
  },
  {
   "cell_type": "code",
   "execution_count": 110,
   "metadata": {},
   "outputs": [],
   "source": [
    "df = pd.read_csv(\"nlp_df.csv\")"
   ]
  },
  {
   "cell_type": "code",
   "execution_count": 111,
   "metadata": {},
   "outputs": [],
   "source": [
    "df = df.iloc[:,2:]\n",
    "df = df.drop_duplicates()"
   ]
  },
  {
   "cell_type": "code",
   "execution_count": 112,
   "metadata": {},
   "outputs": [
    {
     "data": {
      "text/plain": [
       "Index(['name', 'developer', 'category', 'desc', 'features', 'img_link',\n",
       "       'tags'],\n",
       "      dtype='object')"
      ]
     },
     "execution_count": 112,
     "metadata": {},
     "output_type": "execute_result"
    }
   ],
   "source": [
    "df.columns"
   ]
  },
  {
   "cell_type": "code",
   "execution_count": 113,
   "metadata": {},
   "outputs": [],
   "source": [
    "df = df.dropna()"
   ]
  },
  {
   "cell_type": "code",
   "execution_count": 114,
   "metadata": {},
   "outputs": [
    {
     "name": "stdout",
     "output_type": "stream",
     "text": [
      "<class 'pandas.core.frame.DataFrame'>\n",
      "Index: 8884 entries, 0 to 8906\n",
      "Data columns (total 7 columns):\n",
      " #   Column     Non-Null Count  Dtype \n",
      "---  ------     --------------  ----- \n",
      " 0   name       8884 non-null   object\n",
      " 1   developer  8884 non-null   object\n",
      " 2   category   8884 non-null   object\n",
      " 3   desc       8884 non-null   object\n",
      " 4   features   8884 non-null   object\n",
      " 5   img_link   8884 non-null   object\n",
      " 6   tags       8884 non-null   object\n",
      "dtypes: object(7)\n",
      "memory usage: 555.2+ KB\n"
     ]
    }
   ],
   "source": [
    "df.info()"
   ]
  },
  {
   "cell_type": "code",
   "execution_count": 115,
   "metadata": {},
   "outputs": [],
   "source": [
    "# df['tags'].map(count_tokens)\n"
   ]
  },
  {
   "cell_type": "code",
   "execution_count": 116,
   "metadata": {},
   "outputs": [
    {
     "data": {
      "text/html": [
       "<div>\n",
       "<style scoped>\n",
       "    .dataframe tbody tr th:only-of-type {\n",
       "        vertical-align: middle;\n",
       "    }\n",
       "\n",
       "    .dataframe tbody tr th {\n",
       "        vertical-align: top;\n",
       "    }\n",
       "\n",
       "    .dataframe thead th {\n",
       "        text-align: right;\n",
       "    }\n",
       "</style>\n",
       "<table border=\"1\" class=\"dataframe\">\n",
       "  <thead>\n",
       "    <tr style=\"text-align: right;\">\n",
       "      <th></th>\n",
       "      <th>name</th>\n",
       "      <th>developer</th>\n",
       "      <th>category</th>\n",
       "      <th>desc</th>\n",
       "      <th>features</th>\n",
       "      <th>img_link</th>\n",
       "      <th>tags</th>\n",
       "    </tr>\n",
       "  </thead>\n",
       "  <tbody>\n",
       "    <tr>\n",
       "      <th>0</th>\n",
       "      <td>Paragon APFS for Windows 2024</td>\n",
       "      <td>Paragon APFS for Windows</td>\n",
       "      <td>Softwares</td>\n",
       "      <td>Paragon APFS for Windows 2024 is a professiona...</td>\n",
       "      <td>Allows you to browse, read and write files on ...</td>\n",
       "      <td>https://media.getintopc.com/2024/06/Paragon-AP...</td>\n",
       "      <td>Paragon APFS for Windows 2024 is a professiona...</td>\n",
       "    </tr>\n",
       "    <tr>\n",
       "      <th>1</th>\n",
       "      <td>Topaz Gigapixel AI 2024</td>\n",
       "      <td>Topaz Gigapixel</td>\n",
       "      <td>Photo Editing</td>\n",
       "      <td>Topaz Gigapixel AI 2024 is a professional phot...</td>\n",
       "      <td>Allows you to easily increase the resolution o...</td>\n",
       "      <td>https://media.getintopc.com/2024/07/Topaz-Giga...</td>\n",
       "      <td>Topaz Gigapixel AI 2024 is a professional phot...</td>\n",
       "    </tr>\n",
       "  </tbody>\n",
       "</table>\n",
       "</div>"
      ],
      "text/plain": [
       "                            name                 developer       category  \\\n",
       "0  Paragon APFS for Windows 2024  Paragon APFS for Windows      Softwares   \n",
       "1        Topaz Gigapixel AI 2024           Topaz Gigapixel  Photo Editing   \n",
       "\n",
       "                                                desc  \\\n",
       "0  Paragon APFS for Windows 2024 is a professiona...   \n",
       "1  Topaz Gigapixel AI 2024 is a professional phot...   \n",
       "\n",
       "                                            features  \\\n",
       "0  Allows you to browse, read and write files on ...   \n",
       "1  Allows you to easily increase the resolution o...   \n",
       "\n",
       "                                            img_link  \\\n",
       "0  https://media.getintopc.com/2024/06/Paragon-AP...   \n",
       "1  https://media.getintopc.com/2024/07/Topaz-Giga...   \n",
       "\n",
       "                                                tags  \n",
       "0  Paragon APFS for Windows 2024 is a professiona...  \n",
       "1  Topaz Gigapixel AI 2024 is a professional phot...  "
      ]
     },
     "execution_count": 116,
     "metadata": {},
     "output_type": "execute_result"
    }
   ],
   "source": [
    "df.head(2)"
   ]
  },
  {
   "cell_type": "code",
   "execution_count": 117,
   "metadata": {},
   "outputs": [],
   "source": [
    "features = list(df['features'].values)"
   ]
  },
  {
   "cell_type": "code",
   "execution_count": 35,
   "metadata": {},
   "outputs": [
    {
     "name": "stderr",
     "output_type": "stream",
     "text": [
      "c:\\Users\\user\\Desktop\\Work\\venvs\\venv\\lib\\site-packages\\transformers\\tokenization_utils_base.py:1601: FutureWarning: `clean_up_tokenization_spaces` was not set. It will be set to `True` by default. This behavior will be depracted in transformers v4.45, and will be then set to `False` by default. For more details check this issue: https://github.com/huggingface/transformers/issues/31884\n",
      "  warnings.warn(\n"
     ]
    }
   ],
   "source": [
    "from sklearn.metrics.pairwise import cosine_similarity\n",
    "from sentence_transformers import SentenceTransformer\n",
    "model = SentenceTransformer('all-MiniLM-L6-v2')\n",
    "\n",
    "# Convert descriptions to embeddings\n",
    "embeddings = model.encode(features)"
   ]
  },
  {
   "cell_type": "code",
   "execution_count": 138,
   "metadata": {},
   "outputs": [],
   "source": [
    "def load_data():\n",
    "    df = pd.read_csv('nlp_df.csv')\n",
    "    df = df.iloc[:,2:]\n",
    "\n",
    "    with  open('embeddings.pkl', 'rb') as e:\n",
    "        embeddings = pickle.load(e)\n",
    "\n",
    "    cos_matrix = cosine_similarity(embeddings)\n",
    "    return df,cos_matrix\n",
    "\n",
    "df, cos_matrix = load_data()"
   ]
  },
  {
   "cell_type": "code",
   "execution_count": 127,
   "metadata": {},
   "outputs": [],
   "source": [
    "import pickle\n",
    "\n",
    "with open(\"cos_matrix.pkl\", 'rb') as e:\n",
    "    cos_matrix = pickle.load(e)"
   ]
  },
  {
   "cell_type": "code",
   "execution_count": 139,
   "metadata": {},
   "outputs": [
    {
     "data": {
      "text/plain": [
       "'Allows you to browse, read and write files on APFS-formatted HDD, SSD or flash drives.  Provides complete read and access with all permissions, as well as support for encrypted volumes.  Accurately display the drive’s total used and free storage space, status along with partition styles.  Enables you to edit files, create new files or delete existing files.  Keep the data safe by preventing accidental data corruption and any possible loss to its integrity.\\xa0 Gives you real time access to your files directly from Windows in different system partitions, regardless of the storage medium of the files.  Intelligently detect the volumes encrypted in a particular file.  Allows forensic researchers and experts to find out forensic and other in-depth data analysis.  Mount huge data volumes to run automatically at startup without the need to restart the operating system or power your computer on.  Offers complete support for all character sets including non-Roman characters giving you access to file names on volumes mounted in non-native OS.'"
      ]
     },
     "execution_count": 139,
     "metadata": {},
     "output_type": "execute_result"
    }
   ],
   "source": [
    "features[0]"
   ]
  },
  {
   "cell_type": "code",
   "execution_count": 140,
   "metadata": {},
   "outputs": [
    {
     "data": {
      "text/plain": [
       "['Photo Editing', 'Topaz Gigapixel']"
      ]
     },
     "execution_count": 140,
     "metadata": {},
     "output_type": "execute_result"
    }
   ],
   "source": [
    "list(df.iloc[1][['category','developer']].values)"
   ]
  },
  {
   "cell_type": "code",
   "execution_count": 156,
   "metadata": {},
   "outputs": [
    {
     "name": "stdout",
     "output_type": "stream",
     "text": [
      "['Topaz Gigapixel AI 2024' 'Topaz Gigapixel' 'Photo Editing']\n",
      "['AVCLabs Photo Enhancer AI 2022' 'AVCLabs' 'Photo Editing']\n",
      "['HitPaw Photo Enhancer 2023' 'HitPaw' 'Photo Editing']\n",
      "['Topaz Gigapixel AI 2022' 'Topaz Gigapixel AI' 'Photo Editing']\n",
      "['Topaz Gigapixel AI 2023' 'Topaz' 'Photo Editing']\n",
      "['Photolemur 3 Creative Edition' 'photolemur' 'Photo Editing']\n",
      "['Movavi Picverse 2022' 'Movavi' 'Photo Editing']\n",
      "['CyberLink PhotoDirector Ultra 2022' 'CyberLink' 'Photo Editing']\n",
      "['HitPaw Photo Enhancer' 'hitpaw' 'Photo Editing']\n",
      "['Topaz Photo AI 2024' 'Topaz Photo AI' 'Photo Editing']\n",
      "['InPixio Photo Maximizer Pro 2024' 'InPixio' 'Photo Editing']\n",
      "['CameraBag Photo 2024' 'CameraBag' 'Photo Editing']\n",
      "['Retouch4me Suite 2024' 'Retouch4me' 'Photo Editing']\n",
      "['SILKYPIX JPEG Photography 2024 Free Download' 'SILKYPIX' 'Photo Editing']\n",
      "['CyberLink PhotoDirector Ultra 2024' 'CyberLink' 'Photo Editing']\n",
      "['Alien Skin Blow Up' 'Alien Skin Blow Up' 'Softwares']\n",
      "['Imagenomic Portraiture 2024' 'Imagenomic' 'Photo Editing']\n",
      "['reaConverter Pro 2021' 'reaConverter Pro' 'Converters']\n",
      "['Photo Pos Pro 2023' 'Photo Pos Pro' 'Photo Editing']\n",
      "['ON1 Photo RAW 2024' 'ON1 Photo' 'Photo Editing']\n",
      "['AMS PhotoWorks 2021' 'AMS PhotoWorks' 'Photo Editing']\n",
      "['Adobe Photoshop Elements 2023' 'Adobe' 'Photo Editing']\n",
      "['Luminar Neo 2023' 'Luminar Neo' 'Photo Editing']\n",
      "['Topaz Gigapixel AI 2021' 'topazlabs' 'Photo Editing']\n",
      "['Mediachance AI Photo and Art Enhancer 2022' 'Mediachance'\n",
      " 'Photo Editing']\n",
      "['ON1 Resize 2021' 'ON1 Resize' 'Photo Editing']\n",
      "['Radiant Photo 2024' 'Radiant Photo' 'Photo Editing']\n",
      "['Luminar AI 2023' 'Luminar AI' 'Photo Editing']\n",
      "['CyberLink PhotoDirector Ultra 2023' 'CyberLink' 'Photo Editing']\n",
      "['SILKYPIX Developer Studio 2021' 'SILKYPIX' 'Photo Editing']\n",
      "['Irix HDR Classic Pro 2023' 'Irix' 'Photo Editing']\n",
      "['Franzis COLOR projects professional 2022' 'Franzis' 'Photo Editing']\n",
      "['Fotor 2022' 'Fotor' 'Photo Editing']\n",
      "['Luminar AI' 'skylum' 'Photo Editing']\n",
      "['Leawo PhotoIns Pro 2022' 'Leawo' 'Photo Editing']\n",
      "['Photo Pos Pro 2021' 'photopos' 'Photo Editing']\n",
      "['PhotoDiva 2023' 'PhotoDiva' 'Photo Editing']\n",
      "['JixiPix Chromatic Edges 2022' 'JixiPix' 'Photo Editing']\n",
      "['Snapclear 2023' 'Snapclear' 'Photo Editing']\n",
      "['Stepok Light Developer' 'Stepok' 'Photo Editing']\n",
      "['SILKYPIX Developer Studio Pro 2022' 'SILKYPIX' 'Photo Editing']\n",
      "['InPixio Photo Focus Pro 2024' 'InPixio' 'Photo Editing']\n",
      "['HitPaw Video Enhancer 2023' 'HitPaw' 'Video Editing']\n",
      "['CyberLink PhotoDirector Ultra 2021' 'CyberLink' 'Photo Editing']\n",
      "['Nevercenter CameraBag Photo 2022' 'Nevercenter CameraBag'\n",
      " 'Photo Editing']\n",
      "['Light Image Resizer 2023' 'Light Image Resizer' 'Photo Editing']\n",
      "['AMS Software PhotoWorks 2022' 'AMS Software' 'Photo Editing']\n",
      "['Ashampoo Photo Optimizer 2022' 'Ashampoo' 'Photo Editing']\n",
      "['Franzis Foto Filter Classics' 'Franzis Foto' 'Photo Editing']\n",
      "['SteelSoft Cartoonist (Convert photos to comics)' 'SteelSoft Cartoonist'\n",
      " 'Photo Editing']\n",
      "None\n"
     ]
    }
   ],
   "source": [
    "def get_only_name(text):\n",
    "    result = re.sub(r\"\\s\\d{4}$\", \"\", text)\n",
    "    return result\n",
    "\n",
    "def recommend(app_name):\n",
    "    app_index = df[df['name'] == app_name].index[0]\n",
    "    simliarity_vector = cos_matrix[app_index]\n",
    "    recommendations = sorted(enumerate(simliarity_vector), reverse=True, key=lambda x: x[1])[:50]\n",
    "    recommended_df = df.iloc[[x[0] for x in recommendations]][['name','developer', 'category']]\n",
    "    for i, name in recommended_df.iterrows():\n",
    "        print( name.values)\n",
    "             \n",
    "\n",
    "print(recommend('Topaz Gigapixel AI 2024'))"
   ]
  },
  {
   "cell_type": "code",
   "execution_count": 69,
   "metadata": {},
   "outputs": [
    {
     "data": {
      "text/plain": [
       "'Allows you to create attractive and stunning layouts for books, magazines, multi-type reports, brochures, posters and many other. Provides a wide range of creative tools for working with vector graphics and creating eye-catching graphical content. Provides a variety of read-made publication templates allowing you to make custom settings according to your choice. Universal digital publishing package which provides groundbreaking tools to control the graphical details of the images. Includes a rich collection of pencils, brushes, fill and transparency control tools, shapes and vector cropping tools. Offers support for adding layers, effects, and a variety of other details to the images. Allows you to manage your texts, images, objects and pages more professionally by using import and export options. Enables users to adjust the colors, lighting, and other aspects of the images. Provides a powerful set of tools to improve the visual appearance of the images. Offers a variety of customizations and settings that can help you improve digital images without any hard efforts.'"
      ]
     },
     "execution_count": 69,
     "metadata": {},
     "output_type": "execute_result"
    }
   ],
   "source": [
    "df.iloc[2137]['features']"
   ]
  },
  {
   "cell_type": "code",
   "execution_count": 147,
   "metadata": {},
   "outputs": [
    {
     "name": "stdout",
     "output_type": "stream",
     "text": [
      "'Topaz Photo AI' and 'Topaz' are similar with a similarity score of 53\n",
      "'Topaz Photo AI' and 'Topaz Gigapixel AI' are similar with a similarity score of 56\n",
      "'Topaz Photo AI' and 'Topaz Gigapixel' are similar with a similarity score of 41\n",
      "'Topaz Photo AI' and 'AVCLabs' are similar with a similarity score of 10\n",
      "'Topaz Photo AI' and 'HitPaw' are similar with a similarity score of 10\n",
      "'Topaz' and 'Topaz Photo AI' are similar with a similarity score of 53\n",
      "'Topaz' and 'Topaz Gigapixel AI' are similar with a similarity score of 43\n",
      "'Topaz' and 'Topaz Gigapixel' are similar with a similarity score of 50\n",
      "'Topaz' and 'AVCLabs' are similar with a similarity score of 17\n",
      "'Topaz' and 'HitPaw' are similar with a similarity score of 18\n",
      "'Topaz Gigapixel AI' and 'Topaz Photo AI' are similar with a similarity score of 56\n",
      "'Topaz Gigapixel AI' and 'Topaz' are similar with a similarity score of 43\n",
      "'Topaz Gigapixel AI' and 'Topaz Gigapixel' are similar with a similarity score of 91\n",
      "'Topaz Gigapixel AI' and 'AVCLabs' are similar with a similarity score of 8\n",
      "'Topaz Gigapixel AI' and 'HitPaw' are similar with a similarity score of 8\n",
      "'Topaz Gigapixel' and 'Topaz Photo AI' are similar with a similarity score of 41\n",
      "'Topaz Gigapixel' and 'Topaz' are similar with a similarity score of 50\n",
      "'Topaz Gigapixel' and 'Topaz Gigapixel AI' are similar with a similarity score of 91\n",
      "'Topaz Gigapixel' and 'AVCLabs' are similar with a similarity score of 9\n",
      "'Topaz Gigapixel' and 'HitPaw' are similar with a similarity score of 10\n",
      "'AVCLabs' and 'Topaz Photo AI' are similar with a similarity score of 10\n",
      "'AVCLabs' and 'Topaz' are similar with a similarity score of 17\n",
      "'AVCLabs' and 'Topaz Gigapixel AI' are similar with a similarity score of 8\n",
      "'AVCLabs' and 'Topaz Gigapixel' are similar with a similarity score of 9\n",
      "'AVCLabs' and 'HitPaw' are similar with a similarity score of 15\n",
      "'HitPaw' and 'Topaz Photo AI' are similar with a similarity score of 10\n",
      "'HitPaw' and 'Topaz' are similar with a similarity score of 18\n",
      "'HitPaw' and 'Topaz Gigapixel AI' are similar with a similarity score of 17\n",
      "'HitPaw' and 'Topaz Gigapixel' are similar with a similarity score of 19\n",
      "'HitPaw' and 'AVCLabs' are similar with a similarity score of 15\n"
     ]
    }
   ],
   "source": [
    "from fuzzywuzzy import fuzz\n",
    "\n",
    "names = [\"Topaz Photo AI\", \"Topaz\", \"Topaz Gigapixel AI\", \"Topaz Gigapixel\", \"AVCLabs\", \"HitPaw\"]\n",
    "for name1 in names:\n",
    "    for name2 in names:\n",
    "        if name1 != name2:\n",
    "            similarity = fuzz.ratio(name1, name2)  # Adjust threshold based on needs\n",
    "            print(f\"'{name1}' and '{name2}' are similar with a similarity score of {similarity}\")\n"
   ]
  }
 ],
 "metadata": {
  "kernelspec": {
   "display_name": "DL_general",
   "language": "python",
   "name": "python3"
  },
  "language_info": {
   "codemirror_mode": {
    "name": "ipython",
    "version": 3
   },
   "file_extension": ".py",
   "mimetype": "text/x-python",
   "name": "python",
   "nbconvert_exporter": "python",
   "pygments_lexer": "ipython3",
   "version": "3.10.0"
  }
 },
 "nbformat": 4,
 "nbformat_minor": 2
}
