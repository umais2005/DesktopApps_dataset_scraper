{
 "cells": [
  {
   "cell_type": "code",
   "execution_count": 250,
   "id": "initial_id",
   "metadata": {
    "collapsed": true
   },
   "outputs": [],
   "source": [
    "import pandas as pd # type: ignore\n",
    "import json\n",
    "import re\n",
    "import numpy as np\n",
    "import warnings"
   ]
  },
  {
   "cell_type": "markdown",
   "id": "ce5bd97e",
   "metadata": {},
   "source": [
    "### Import the data and make it workable"
   ]
  },
  {
   "cell_type": "code",
   "execution_count": 175,
   "id": "ee622cd9",
   "metadata": {},
   "outputs": [],
   "source": [
    "append_paths = [f'../data/raw/by_pages/page_{page_num}_apps.json' for page_num in range(0,3000)]\n",
    "apps = []\n",
    "for page_path in append_paths:\n",
    "    page = json.loads(open(page_path, 'r').read())\n",
    "    apps.extend(page)\n",
    "with open('workable_apps.json','w')as f:\n",
    "    json.dump(apps, f, indent=4)\n"
   ]
  },
  {
   "cell_type": "markdown",
   "id": "5b603b95",
   "metadata": {},
   "source": [
    "#### Now import the workable json file"
   ]
  },
  {
   "cell_type": "code",
   "execution_count": 220,
   "id": "a3c0130e",
   "metadata": {},
   "outputs": [
    {
     "data": {
      "text/plain": [
       "(16463, 13)"
      ]
     },
     "execution_count": 220,
     "metadata": {},
     "output_type": "execute_result"
    }
   ],
   "source": [
    "df = pd.DataFrame([app for app in apps if app])\n",
    "df.shape"
   ]
  },
  {
   "cell_type": "code",
   "execution_count": 221,
   "id": "526bba12",
   "metadata": {},
   "outputs": [
    {
     "data": {
      "text/plain": [
       "name                   0\n",
       "category               0\n",
       "developer           1064\n",
       "release              138\n",
       "setup_size             5\n",
       "setup_type             7\n",
       "compatibility        103\n",
       "operating_system     228\n",
       "ram_required         228\n",
       "hdd_space            228\n",
       "cpu                  228\n",
       "desc                   0\n",
       "features               0\n",
       "dtype: int64"
      ]
     },
     "execution_count": 221,
     "metadata": {},
     "output_type": "execute_result"
    }
   ],
   "source": [
    "n_na = df.isna().sum(axis=0)\n",
    "n_na.round(2)  # Percentage of missing values"
   ]
  },
  {
   "cell_type": "code",
   "execution_count": 222,
   "id": "1585d1d7",
   "metadata": {},
   "outputs": [],
   "source": [
    "df = df.dropna()"
   ]
  },
  {
   "cell_type": "code",
   "execution_count": 223,
   "id": "553c29a7",
   "metadata": {},
   "outputs": [
    {
     "name": "stdout",
     "output_type": "stream",
     "text": [
      "<class 'pandas.core.frame.DataFrame'>\n",
      "Index: 15388 entries, 0 to 16456\n",
      "Data columns (total 13 columns):\n",
      " #   Column            Non-Null Count  Dtype \n",
      "---  ------            --------------  ----- \n",
      " 0   name              15388 non-null  object\n",
      " 1   category          15388 non-null  object\n",
      " 2   developer         15388 non-null  object\n",
      " 3   release           15388 non-null  object\n",
      " 4   setup_size        15388 non-null  object\n",
      " 5   setup_type        15388 non-null  object\n",
      " 6   compatibility     15388 non-null  object\n",
      " 7   operating_system  15388 non-null  object\n",
      " 8   ram_required      15388 non-null  object\n",
      " 9   hdd_space         15388 non-null  object\n",
      " 10  cpu               15388 non-null  object\n",
      " 11  desc              15388 non-null  object\n",
      " 12  features          15388 non-null  object\n",
      "dtypes: object(13)\n",
      "memory usage: 1.6+ MB\n"
     ]
    }
   ],
   "source": [
    "df.info()"
   ]
  },
  {
   "cell_type": "code",
   "execution_count": 224,
   "id": "a60a5dc7",
   "metadata": {},
   "outputs": [
    {
     "data": {
      "text/html": [
       "<div>\n",
       "<style scoped>\n",
       "    .dataframe tbody tr th:only-of-type {\n",
       "        vertical-align: middle;\n",
       "    }\n",
       "\n",
       "    .dataframe tbody tr th {\n",
       "        vertical-align: top;\n",
       "    }\n",
       "\n",
       "    .dataframe thead th {\n",
       "        text-align: right;\n",
       "    }\n",
       "</style>\n",
       "<table border=\"1\" class=\"dataframe\">\n",
       "  <thead>\n",
       "    <tr style=\"text-align: right;\">\n",
       "      <th></th>\n",
       "      <th>name</th>\n",
       "      <th>category</th>\n",
       "      <th>developer</th>\n",
       "      <th>release</th>\n",
       "      <th>setup_size</th>\n",
       "      <th>setup_type</th>\n",
       "      <th>compatibility</th>\n",
       "      <th>operating_system</th>\n",
       "      <th>ram_required</th>\n",
       "      <th>hdd_space</th>\n",
       "      <th>cpu</th>\n",
       "      <th>desc</th>\n",
       "      <th>features</th>\n",
       "    </tr>\n",
       "  </thead>\n",
       "  <tbody>\n",
       "    <tr>\n",
       "      <th>0</th>\n",
       "      <td>EssentialPIM Pro Business 2024</td>\n",
       "      <td>Management</td>\n",
       "      <td>EssentialPIM Pro</td>\n",
       "      <td>22th Jun 2024</td>\n",
       "      <td>32 MB</td>\n",
       "      <td>Offline Installer / Full Standalone Setup</td>\n",
       "      <td>32 Bit (x86) / 64 Bit (x64)</td>\n",
       "      <td>Windows 7/8/10</td>\n",
       "      <td>1 GB</td>\n",
       "      <td>200 MB</td>\n",
       "      <td>Intel Dual Core or higher processor</td>\n",
       "      <td>EssentialPIM Pro Business 2024 is a profession...</td>\n",
       "      <td>Allows you to create a wide range of tasks, no...</td>\n",
       "    </tr>\n",
       "    <tr>\n",
       "      <th>1</th>\n",
       "      <td>Gillmeister Rename Expert 2024</td>\n",
       "      <td>Utilities</td>\n",
       "      <td>Gillmeister</td>\n",
       "      <td>22th Jun 2024</td>\n",
       "      <td>15 MB</td>\n",
       "      <td>Offline Installer / Full Standalone Setup</td>\n",
       "      <td>32 Bit (x86) / 64 Bit (x64)</td>\n",
       "      <td>Windows 7/8/10</td>\n",
       "      <td>1 GB</td>\n",
       "      <td>100 MB</td>\n",
       "      <td>Intel Dual Core or higher processor</td>\n",
       "      <td>Gillmeister Rename Expert 2024 is a profession...</td>\n",
       "      <td>Allows you to edit the names of files and fold...</td>\n",
       "    </tr>\n",
       "  </tbody>\n",
       "</table>\n",
       "</div>"
      ],
      "text/plain": [
       "                             name    category         developer  \\\n",
       "0  EssentialPIM Pro Business 2024  Management  EssentialPIM Pro   \n",
       "1  Gillmeister Rename Expert 2024   Utilities       Gillmeister   \n",
       "\n",
       "         release setup_size                                 setup_type  \\\n",
       "0  22th Jun 2024      32 MB  Offline Installer / Full Standalone Setup   \n",
       "1  22th Jun 2024      15 MB  Offline Installer / Full Standalone Setup   \n",
       "\n",
       "                 compatibility operating_system ram_required hdd_space  \\\n",
       "0  32 Bit (x86) / 64 Bit (x64)   Windows 7/8/10         1 GB    200 MB   \n",
       "1  32 Bit (x86) / 64 Bit (x64)   Windows 7/8/10         1 GB    100 MB   \n",
       "\n",
       "                                   cpu  \\\n",
       "0  Intel Dual Core or higher processor   \n",
       "1  Intel Dual Core or higher processor   \n",
       "\n",
       "                                                desc  \\\n",
       "0  EssentialPIM Pro Business 2024 is a profession...   \n",
       "1  Gillmeister Rename Expert 2024 is a profession...   \n",
       "\n",
       "                                            features  \n",
       "0  Allows you to create a wide range of tasks, no...  \n",
       "1  Allows you to edit the names of files and fold...  "
      ]
     },
     "execution_count": 224,
     "metadata": {},
     "output_type": "execute_result"
    }
   ],
   "source": [
    "df.head(2)"
   ]
  },
  {
   "cell_type": "markdown",
   "id": "eac45914",
   "metadata": {},
   "source": [
    "### We can clean the columns with units example: hdd_space, ram, setup size, and also cpu"
   ]
  },
  {
   "cell_type": "code",
   "execution_count": 290,
   "id": "97cc3400",
   "metadata": {},
   "outputs": [],
   "source": [
    "def parse_memory(x:str):\n",
    "   try:\n",
    "      number = re.search(r'\\d+(\\.\\d+)?', x).group()\n",
    "   except AttributeError:\n",
    "      return np.nan\n",
    "   try:\n",
    "      number = int(number)\n",
    "   except ValueError:\n",
    "      number = float(number)\n",
    "   if re.search(r'(?:MB)',x, flags=re.IGNORECASE):\n",
    "      return number\n",
    "   elif re.search(r'(?:KB)',x, flags=re.IGNORECASE):\n",
    "      return number /1000\n",
    "   elif re.search(r'(?:GB)',x, flags=re.IGNORECASE):\n",
    "      return number * 1000\n",
    "   return np.nan\n",
    "def parse_compatibility(x: str):\n",
    "    matches =  re.findall(r'(32|64|86)', x)\n",
    "    if matches:\n",
    "        if '86' in matches:\n",
    "            matches.remove('86')\n",
    "            matches.insert(0, '32')\n",
    "        matches = list(set(matches))\n",
    "        return \", \".join(matches)\n",
    "    else:\n",
    "        return np.nan"
   ]
  },
  {
   "cell_type": "code",
   "execution_count": 246,
   "id": "786a0327",
   "metadata": {},
   "outputs": [],
   "source": [
    "filter = df['setup_size'].str.match('\\d+(\\.\\d+)?') # Makes sure setup_size contains numbers"
   ]
  },
  {
   "cell_type": "code",
   "execution_count": 247,
   "id": "36cfddc2",
   "metadata": {},
   "outputs": [],
   "source": [
    "df = df.loc[filter]"
   ]
  },
  {
   "cell_type": "code",
   "execution_count": 249,
   "id": "12739f73",
   "metadata": {},
   "outputs": [
    {
     "name": "stderr",
     "output_type": "stream",
     "text": [
      "C:\\Users\\umais\\AppData\\Local\\Temp\\ipykernel_13680\\1241706186.py:1: SettingWithCopyWarning: \n",
      "A value is trying to be set on a copy of a slice from a DataFrame.\n",
      "Try using .loc[row_indexer,col_indexer] = value instead\n",
      "\n",
      "See the caveats in the documentation: https://pandas.pydata.org/pandas-docs/stable/user_guide/indexing.html#returning-a-view-versus-a-copy\n",
      "  df['setup_size MB'] = df['setup_size'].map(parse_memory)#str.split().str[-1].value_counts()\n"
     ]
    }
   ],
   "source": [
    "df['setup_size MB'] = df['setup_size'].map(parse_memory)#str.split().str[-1].value_counts()"
   ]
  },
  {
   "cell_type": "code",
   "execution_count": 253,
   "id": "35bcbe62",
   "metadata": {},
   "outputs": [],
   "source": [
    "df = df.drop(['setup_size'],axis=1)"
   ]
  },
  {
   "cell_type": "code",
   "execution_count": 279,
   "id": "ab36c0d0",
   "metadata": {},
   "outputs": [],
   "source": [
    "df['os_architecture bits']  = df['compatibility'].map(parse_compatibility)"
   ]
  },
  {
   "cell_type": "code",
   "execution_count": 293,
   "id": "839ba131",
   "metadata": {},
   "outputs": [
    {
     "data": {
      "text/plain": [
       "0          200.0\n",
       "1          100.0\n",
       "2          250.0\n",
       "3          100.0\n",
       "4         1000.0\n",
       "          ...   \n",
       "16452     2000.0\n",
       "16453      100.0\n",
       "16454     2000.0\n",
       "16455      100.0\n",
       "16456    10000.0\n",
       "Name: hdd_space, Length: 15246, dtype: float64"
      ]
     },
     "execution_count": 293,
     "metadata": {},
     "output_type": "execute_result"
    }
   ],
   "source": [
    "df['hdd_space'].map(parse_memory)"
   ]
  },
  {
   "cell_type": "code",
   "execution_count": null,
   "id": "a2b93552",
   "metadata": {},
   "outputs": [],
   "source": []
  }
 ],
 "metadata": {
  "kernelspec": {
   "display_name": "Python 3",
   "language": "python",
   "name": "python3"
  },
  "language_info": {
   "codemirror_mode": {
    "name": "ipython",
    "version": 3
   },
   "file_extension": ".py",
   "mimetype": "text/x-python",
   "name": "python",
   "nbconvert_exporter": "python",
   "pygments_lexer": "ipython3",
   "version": "3.10.13"
  }
 },
 "nbformat": 4,
 "nbformat_minor": 5
}
