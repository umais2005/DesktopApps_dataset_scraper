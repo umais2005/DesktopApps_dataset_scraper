{
 "cells": [
  {
   "cell_type": "code",
   "execution_count": 2,
   "id": "initial_id",
   "metadata": {
    "collapsed": true
   },
   "outputs": [],
   "source": [
    "import pandas as pd # type: ignore\n",
    "import json\n",
    "import re\n",
    "import numpy as np\n",
    "import warnings\n",
    "from datetime import datetime\n",
    "import matplotlib.pyplot as plt"
   ]
  },
  {
   "cell_type": "markdown",
   "id": "ce5bd97e",
   "metadata": {},
   "source": [
    "### Import the data and make it workable"
   ]
  },
  {
   "cell_type": "code",
   "execution_count": 3,
   "id": "ee622cd9",
   "metadata": {},
   "outputs": [],
   "source": [
    "# append_paths = [f'../data/raw/by_pages/page_{page_num}_apps.json' for page_num in range(0,3039)]\n",
    "# apps = []\n",
    "# for page_path in append_paths:\n",
    "#     page = json.loads(open(page_path, 'r').read())\n",
    "#     apps.extend(page)\n",
    "# with open('workable_apps.json','w')as f:\n",
    "#     json.dump(apps, f, indent=4)\n"
   ]
  },
  {
   "cell_type": "code",
   "execution_count": 4,
   "id": "40686aba",
   "metadata": {},
   "outputs": [],
   "source": [
    "with open('workable_apps.json','r')as f:\n",
    "    apps = json.loads(f.read())\n"
   ]
  },
  {
   "cell_type": "code",
   "execution_count": 5,
   "id": "a3c0130e",
   "metadata": {},
   "outputs": [
    {
     "data": {
      "text/plain": [
       "(17768, 33)"
      ]
     },
     "execution_count": 5,
     "metadata": {},
     "output_type": "execute_result"
    }
   ],
   "source": [
    "df = pd.DataFrame([app for app in apps if app])\n",
    "df.shape"
   ]
  },
  {
   "cell_type": "code",
   "execution_count": 6,
   "id": "526bba12",
   "metadata": {},
   "outputs": [
    {
     "data": {
      "text/plain": [
       "(17768, 33)"
      ]
     },
     "execution_count": 6,
     "metadata": {},
     "output_type": "execute_result"
    }
   ],
   "source": [
    "n_na = df.isna().sum(axis=0)\n",
    "n_na.round(2)  # Percentage of missing values\n",
    "df.shape"
   ]
  },
  {
   "cell_type": "code",
   "execution_count": 7,
   "id": "adcacf10",
   "metadata": {},
   "outputs": [
    {
     "data": {
      "text/html": [
       "<div>\n",
       "<style scoped>\n",
       "    .dataframe tbody tr th:only-of-type {\n",
       "        vertical-align: middle;\n",
       "    }\n",
       "\n",
       "    .dataframe tbody tr th {\n",
       "        vertical-align: top;\n",
       "    }\n",
       "\n",
       "    .dataframe thead th {\n",
       "        text-align: right;\n",
       "    }\n",
       "</style>\n",
       "<table border=\"1\" class=\"dataframe\">\n",
       "  <thead>\n",
       "    <tr style=\"text-align: right;\">\n",
       "      <th></th>\n",
       "      <th>name</th>\n",
       "      <th>category</th>\n",
       "      <th>developer</th>\n",
       "      <th>release</th>\n",
       "      <th>setup_size</th>\n",
       "      <th>setup_type</th>\n",
       "      <th>compatibility</th>\n",
       "      <th>operating_system</th>\n",
       "      <th>ram_required</th>\n",
       "      <th>hdd_space</th>\n",
       "      <th>...</th>\n",
       "      <th>extra_10</th>\n",
       "      <th>extra_11</th>\n",
       "      <th>extra_12</th>\n",
       "      <th>extra_13</th>\n",
       "      <th>extra_14</th>\n",
       "      <th>extra_15</th>\n",
       "      <th>extra_16</th>\n",
       "      <th>extra_17</th>\n",
       "      <th>extra_18</th>\n",
       "      <th>extra_19</th>\n",
       "    </tr>\n",
       "  </thead>\n",
       "  <tbody>\n",
       "    <tr>\n",
       "      <th>0</th>\n",
       "      <td>Valentina Studio Pro 2024</td>\n",
       "      <td>Database, Development</td>\n",
       "      <td>Valentina Studio Pro</td>\n",
       "      <td>10th July 2024</td>\n",
       "      <td>118 MB</td>\n",
       "      <td>Offline Installer / Full Standalone Setup</td>\n",
       "      <td>32 Bit (x86) / 64 Bit (x64)</td>\n",
       "      <td>Windows 7/8/10</td>\n",
       "      <td>1 GB</td>\n",
       "      <td>1 GB</td>\n",
       "      <td>...</td>\n",
       "      <td>NaN</td>\n",
       "      <td>NaN</td>\n",
       "      <td>NaN</td>\n",
       "      <td>NaN</td>\n",
       "      <td>NaN</td>\n",
       "      <td>NaN</td>\n",
       "      <td>NaN</td>\n",
       "      <td>NaN</td>\n",
       "      <td>NaN</td>\n",
       "      <td>NaN</td>\n",
       "    </tr>\n",
       "    <tr>\n",
       "      <th>1</th>\n",
       "      <td>Paragon APFS for Windows 2024</td>\n",
       "      <td>Softwares</td>\n",
       "      <td>Paragon APFS for Windows</td>\n",
       "      <td>10th July 2024</td>\n",
       "      <td>36 MB</td>\n",
       "      <td>Offline Installer / Full Standalone Setup</td>\n",
       "      <td>32 Bit (x86) / 64 Bit (x64)</td>\n",
       "      <td>Windows 7/8/10</td>\n",
       "      <td>1 GB</td>\n",
       "      <td>100 MB</td>\n",
       "      <td>...</td>\n",
       "      <td>NaN</td>\n",
       "      <td>NaN</td>\n",
       "      <td>NaN</td>\n",
       "      <td>NaN</td>\n",
       "      <td>NaN</td>\n",
       "      <td>NaN</td>\n",
       "      <td>NaN</td>\n",
       "      <td>NaN</td>\n",
       "      <td>NaN</td>\n",
       "      <td>NaN</td>\n",
       "    </tr>\n",
       "    <tr>\n",
       "      <th>2</th>\n",
       "      <td>Master Packager Pro 2024</td>\n",
       "      <td>Installer Creation</td>\n",
       "      <td>Master Packager Pro</td>\n",
       "      <td>10th July 2024</td>\n",
       "      <td>66 MB</td>\n",
       "      <td>Offline Installer / Full Standalone Setup</td>\n",
       "      <td>32 Bit (x86) / 64 Bit (x64)</td>\n",
       "      <td>Windows 7/8/10</td>\n",
       "      <td>1 GB</td>\n",
       "      <td>500 MB</td>\n",
       "      <td>...</td>\n",
       "      <td>NaN</td>\n",
       "      <td>NaN</td>\n",
       "      <td>NaN</td>\n",
       "      <td>NaN</td>\n",
       "      <td>NaN</td>\n",
       "      <td>NaN</td>\n",
       "      <td>NaN</td>\n",
       "      <td>NaN</td>\n",
       "      <td>NaN</td>\n",
       "      <td>NaN</td>\n",
       "    </tr>\n",
       "    <tr>\n",
       "      <th>3</th>\n",
       "      <td>Topaz Gigapixel AI 2024</td>\n",
       "      <td>Photo Editing, Photo Retouching</td>\n",
       "      <td>Topaz Gigapixel</td>\n",
       "      <td>10th July 2024</td>\n",
       "      <td>286 MB</td>\n",
       "      <td>Offline Installer / Full Standalone Setup</td>\n",
       "      <td>32 Bit (x86) / 64 Bit (x64)</td>\n",
       "      <td>Windows 7/8/10</td>\n",
       "      <td>1 GB</td>\n",
       "      <td>200 MB</td>\n",
       "      <td>...</td>\n",
       "      <td>NaN</td>\n",
       "      <td>NaN</td>\n",
       "      <td>NaN</td>\n",
       "      <td>NaN</td>\n",
       "      <td>NaN</td>\n",
       "      <td>NaN</td>\n",
       "      <td>NaN</td>\n",
       "      <td>NaN</td>\n",
       "      <td>NaN</td>\n",
       "      <td>NaN</td>\n",
       "    </tr>\n",
       "    <tr>\n",
       "      <th>4</th>\n",
       "      <td>Navicat Premium 2024</td>\n",
       "      <td>3D Designing</td>\n",
       "      <td>Navicat</td>\n",
       "      <td>10th July 2024</td>\n",
       "      <td>184 MB</td>\n",
       "      <td>Offline Installer / Full Standalone Setup</td>\n",
       "      <td>32 Bit (x86) / 64 Bit (x64)</td>\n",
       "      <td>Windows 7/8/10</td>\n",
       "      <td>1 GB</td>\n",
       "      <td>100 MB</td>\n",
       "      <td>...</td>\n",
       "      <td>NaN</td>\n",
       "      <td>NaN</td>\n",
       "      <td>NaN</td>\n",
       "      <td>NaN</td>\n",
       "      <td>NaN</td>\n",
       "      <td>NaN</td>\n",
       "      <td>NaN</td>\n",
       "      <td>NaN</td>\n",
       "      <td>NaN</td>\n",
       "      <td>NaN</td>\n",
       "    </tr>\n",
       "  </tbody>\n",
       "</table>\n",
       "<p>5 rows × 33 columns</p>\n",
       "</div>"
      ],
      "text/plain": [
       "                            name                         category  \\\n",
       "0      Valentina Studio Pro 2024            Database, Development   \n",
       "1  Paragon APFS for Windows 2024                        Softwares   \n",
       "2       Master Packager Pro 2024               Installer Creation   \n",
       "3        Topaz Gigapixel AI 2024  Photo Editing, Photo Retouching   \n",
       "4           Navicat Premium 2024                     3D Designing   \n",
       "\n",
       "                  developer         release setup_size  \\\n",
       "0      Valentina Studio Pro  10th July 2024     118 MB   \n",
       "1  Paragon APFS for Windows  10th July 2024      36 MB   \n",
       "2       Master Packager Pro  10th July 2024      66 MB   \n",
       "3           Topaz Gigapixel  10th July 2024     286 MB   \n",
       "4                   Navicat  10th July 2024     184 MB   \n",
       "\n",
       "                                  setup_type                compatibility  \\\n",
       "0  Offline Installer / Full Standalone Setup  32 Bit (x86) / 64 Bit (x64)   \n",
       "1  Offline Installer / Full Standalone Setup  32 Bit (x86) / 64 Bit (x64)   \n",
       "2  Offline Installer / Full Standalone Setup  32 Bit (x86) / 64 Bit (x64)   \n",
       "3  Offline Installer / Full Standalone Setup  32 Bit (x86) / 64 Bit (x64)   \n",
       "4  Offline Installer / Full Standalone Setup  32 Bit (x86) / 64 Bit (x64)   \n",
       "\n",
       "  operating_system ram_required hdd_space  ... extra_10 extra_11 extra_12  \\\n",
       "0   Windows 7/8/10         1 GB      1 GB  ...      NaN      NaN      NaN   \n",
       "1   Windows 7/8/10         1 GB    100 MB  ...      NaN      NaN      NaN   \n",
       "2   Windows 7/8/10         1 GB    500 MB  ...      NaN      NaN      NaN   \n",
       "3   Windows 7/8/10         1 GB    200 MB  ...      NaN      NaN      NaN   \n",
       "4   Windows 7/8/10         1 GB    100 MB  ...      NaN      NaN      NaN   \n",
       "\n",
       "  extra_13 extra_14 extra_15 extra_16 extra_17 extra_18 extra_19  \n",
       "0      NaN      NaN      NaN      NaN      NaN      NaN      NaN  \n",
       "1      NaN      NaN      NaN      NaN      NaN      NaN      NaN  \n",
       "2      NaN      NaN      NaN      NaN      NaN      NaN      NaN  \n",
       "3      NaN      NaN      NaN      NaN      NaN      NaN      NaN  \n",
       "4      NaN      NaN      NaN      NaN      NaN      NaN      NaN  \n",
       "\n",
       "[5 rows x 33 columns]"
      ]
     },
     "execution_count": 7,
     "metadata": {},
     "output_type": "execute_result"
    }
   ],
   "source": [
    "df.head(5)"
   ]
  },
  {
   "cell_type": "code",
   "execution_count": 8,
   "id": "a60a5dc7",
   "metadata": {},
   "outputs": [
    {
     "data": {
      "text/plain": [
       "0         8\n",
       "1        -1\n",
       "2        -1\n",
       "3        13\n",
       "4        -1\n",
       "         ..\n",
       "17763    -1\n",
       "17764    -1\n",
       "17765    -1\n",
       "17766    -1\n",
       "17767    -1\n",
       "Name: category, Length: 17768, dtype: int64"
      ]
     },
     "execution_count": 8,
     "metadata": {},
     "output_type": "execute_result"
    }
   ],
   "source": [
    "df['category'].str.find(',')"
   ]
  },
  {
   "cell_type": "markdown",
   "id": "eac45914",
   "metadata": {},
   "source": [
    "### We can clean the columns with units example: hdd_space, ram, setup size, and also cpu"
   ]
  },
  {
   "cell_type": "markdown",
   "id": "48ac21cf",
   "metadata": {},
   "source": [
    "#### These are some cleaning functions"
   ]
  },
  {
   "cell_type": "code",
   "execution_count": 9,
   "id": "97cc3400",
   "metadata": {},
   "outputs": [],
   "source": [
    "import datetime as dt\n",
    "\n",
    "def parse_memory(x: str):\n",
    "   try:\n",
    "      # Extract the number part from the string\n",
    "      number = re.search(r'\\d+(\\.\\d+)?', x).group()\n",
    "      number = float(number)  # Convert the extracted number to a float\n",
    "   except (AttributeError, ValueError, TypeError):\n",
    "      return np.nan  # Return NaN if no valid number is found\n",
    "\n",
    "   # Determine the unit and convert accordingly\n",
    "   if re.search(r'(MB|mb)', x):\n",
    "      return number\n",
    "   elif re.search(r'(KB|kb)', x):\n",
    "      return number / 1000\n",
    "   elif re.search(r'(GB|gb)', x):\n",
    "      return number * 1000\n",
    "   return np.nan \n",
    "\n",
    "def parse_compatibility(x: str):\n",
    "   try:\n",
    "      matches =  re.findall(r'(32|64|86)', x)\n",
    "   except TypeError:\n",
    "      return np.nan\n",
    "   if matches:\n",
    "      if '86' in matches:\n",
    "         matches.remove('86')\n",
    "         matches.insert(0, '32')\n",
    "      matches = list(set(matches))\n",
    "      matches = [int(num) for num in matches]\n",
    "      return min(matches)\n",
    "   else:\n",
    "      return np.nan\n",
    "   \n",
    "def parse_date(date_str):\n",
    "   try:\n",
    "      # Remove the ordinal suffix (st, nd, rd, th)\n",
    "      date_str = re.sub(r'(\\d+)(st|nd|rd|th)', r'\\1', date_str)\n",
    "      # Convert to datetime\n",
    "      return pd.to_datetime(date_str, format='%d %B %Y')\n",
    "   except Exception as e:\n",
    "        np.nan\n",
    "    \n",
    "def categorize_os(value):\n",
    "   try:  \n",
    "      if re.search(r\"7/8/8\\.1/10\", value):\n",
    "         return \"Modern Versions\"\n",
    "      elif re.search(r\"7/8/10\", value):\n",
    "         return \"Modern Versions\"\n",
    "      elif re.search(r\"(2000/)?XP/Vista/7/8(/8\\.1)?/10\", value):\n",
    "         return \"All Windows versions\"\n",
    "      elif re.search(r\"XP/Vista/7\", value):\n",
    "         return \"Older Windows versions\"\n",
    "      else:\n",
    "         return \"Other\"\n",
    "   except TypeError:\n",
    "      return np.nan\n"
   ]
  },
  {
   "cell_type": "code",
   "execution_count": 10,
   "id": "392cbb14",
   "metadata": {},
   "outputs": [],
   "source": [
    "newdf = df.copy()"
   ]
  },
  {
   "cell_type": "code",
   "execution_count": 11,
   "id": "e2061f5c",
   "metadata": {},
   "outputs": [],
   "source": [
    "# parse_date(newdf.release[0])\n",
    "newdf['release'] = newdf['release'].map(parse_date)\n",
    "newdf['setup_size_MB'] = newdf['setup_size'].map(parse_memory)\n",
    "newdf['hdd_space_MB'] = newdf['hdd_space'].map(parse_memory)\n",
    "newdf['ram_required_MB'] = newdf['ram_required'].map(parse_memory)\n",
    "newdf['minimum_os_bits']  = newdf['compatibility'].map(parse_compatibility)\n",
    "newdf['os_version'] = newdf['operating_system'].map(categorize_os)\n",
    "newdf = newdf.drop(['setup_size', 'setup_type','compatibility', 'operating_system', 'ram_required', 'hdd_space'], axis=1)"
   ]
  },
  {
   "cell_type": "code",
   "execution_count": 12,
   "id": "27e5b8fe",
   "metadata": {},
   "outputs": [],
   "source": [
    "for col in list(newdf.columns):\n",
    "    if col.startswith('extra'):\n",
    "        newdf = newdf.drop(col, axis=1)\n",
    "\n",
    "newdf.drop('release', axis=1, inplace=True)"
   ]
  },
  {
   "cell_type": "code",
   "execution_count": 13,
   "id": "aed3adfc",
   "metadata": {},
   "outputs": [
    {
     "name": "stdout",
     "output_type": "stream",
     "text": [
      "<class 'pandas.core.frame.DataFrame'>\n",
      "RangeIndex: 17768 entries, 0 to 17767\n",
      "Data columns (total 12 columns):\n",
      " #   Column           Non-Null Count  Dtype  \n",
      "---  ------           --------------  -----  \n",
      " 0   name             17768 non-null  object \n",
      " 1   category         17768 non-null  object \n",
      " 2   developer        16379 non-null  object \n",
      " 3   cpu              17628 non-null  object \n",
      " 4   img_link         17752 non-null  object \n",
      " 5   desc             17768 non-null  object \n",
      " 6   features         17768 non-null  object \n",
      " 7   setup_size_MB    17175 non-null  float64\n",
      " 8   hdd_space_MB     16832 non-null  float64\n",
      " 9   ram_required_MB  16498 non-null  float64\n",
      " 10  minimum_os_bits  16970 non-null  float64\n",
      " 11  os_version       17628 non-null  object \n",
      "dtypes: float64(4), object(8)\n",
      "memory usage: 1.6+ MB\n"
     ]
    }
   ],
   "source": [
    "newdf.info()"
   ]
  },
  {
   "cell_type": "code",
   "execution_count": 14,
   "id": "e50c1268",
   "metadata": {},
   "outputs": [],
   "source": [
    "newdf['category'] = newdf['category'].astype(\"category\")\n",
    "newdf['os_version'] = newdf['os_version'].astype(\"category\")\n",
    "newdf['developer'] = newdf['developer'].astype(\"category\")"
   ]
  },
  {
   "cell_type": "code",
   "execution_count": 15,
   "id": "47c31165",
   "metadata": {},
   "outputs": [],
   "source": [
    "newdf.dropna(inplace=True)"
   ]
  },
  {
   "cell_type": "code",
   "execution_count": 16,
   "id": "7ccb874e",
   "metadata": {},
   "outputs": [],
   "source": [
    "newdf = newdf.dropna().reset_index(drop=True)"
   ]
  },
  {
   "cell_type": "code",
   "execution_count": 17,
   "id": "839ba131",
   "metadata": {},
   "outputs": [
    {
     "data": {
      "text/plain": [
       "(15121, 12)"
      ]
     },
     "execution_count": 17,
     "metadata": {},
     "output_type": "execute_result"
    }
   ],
   "source": [
    "newdf.shape"
   ]
  },
  {
   "cell_type": "code",
   "execution_count": 18,
   "id": "04a75daa",
   "metadata": {},
   "outputs": [
    {
     "data": {
      "text/plain": [
       "Text(0.5, 0, 'App count')"
      ]
     },
     "execution_count": 18,
     "metadata": {},
     "output_type": "execute_result"
    },
    {
     "data": {
      "image/png": "[encoded data removed]",
      "text/plain": [
       "<Figure size 600x300 with 1 Axes>"
      ]
     },
     "metadata": {},
     "output_type": "display_data"
    }
   ],
   "source": [
    "import seaborn as sns\n",
    "plt.figure(figsize=(6,3))\n",
    "ax = newdf.category.value_counts().nlargest(10).sort_values(ascending=True).plot.barh()\n",
    "ax.set_title(\"Top App Categories\")\n",
    "ax.set_xlabel(\"App count\")"
   ]
  },
  {
   "cell_type": "code",
   "execution_count": 19,
   "id": "099e3769",
   "metadata": {},
   "outputs": [],
   "source": [
    "def filter_dev(dev):\n",
    "    if len((dev.split())) > 4:\n",
    "        return np.nan\n",
    "    else:\n",
    "        return dev"
   ]
  },
  {
   "cell_type": "code",
   "execution_count": 20,
   "id": "1daefa56",
   "metadata": {},
   "outputs": [],
   "source": [
    "newdf['developer'] = newdf['developer'].map(filter_dev)\n",
    "# newdf['developer']#.map(lambda x: len((x.split())) < 3)"
   ]
  },
  {
   "cell_type": "code",
   "execution_count": 21,
   "id": "b64cfa1b",
   "metadata": {},
   "outputs": [],
   "source": [
    "newdf.dropna(inplace=True)"
   ]
  },
  {
   "cell_type": "code",
   "execution_count": 22,
   "id": "93e91101",
   "metadata": {},
   "outputs": [
    {
     "data": {
      "text/plain": [
       "(15060, 12)"
      ]
     },
     "execution_count": 22,
     "metadata": {},
     "output_type": "execute_result"
    }
   ],
   "source": [
    "newdf.shape"
   ]
  },
  {
   "cell_type": "code",
   "execution_count": 23,
   "id": "04ab5ce2",
   "metadata": {},
   "outputs": [
    {
     "data": {
      "text/plain": [
       "(15060, 12)"
      ]
     },
     "execution_count": 23,
     "metadata": {},
     "output_type": "execute_result"
    }
   ],
   "source": [
    "newdf.shape"
   ]
  },
  {
   "cell_type": "code",
   "execution_count": 35,
   "id": "d6a9dffb",
   "metadata": {},
   "outputs": [],
   "source": [
    "nlp_df = newdf[[\"name\",\"developer\",\"category\", \"desc\", \"features\", \"img_link\"]]"
   ]
  },
  {
   "cell_type": "code",
   "execution_count": 36,
   "id": "1b8964e2",
   "metadata": {},
   "outputs": [],
   "source": [
    "nlp_df = nlp_df.drop((nlp_df[nlp_df['developer'] == 'Free'].index.values))"
   ]
  },
  {
   "cell_type": "code",
   "execution_count": null,
   "id": "5e94b6eb",
   "metadata": {},
   "outputs": [],
   "source": []
  },
  {
   "cell_type": "code",
   "execution_count": 37,
   "id": "b3adc605",
   "metadata": {},
   "outputs": [
    {
     "data": {
      "text/plain": [
       "<Axes: ylabel='developer'>"
      ]
     },
     "execution_count": 37,
     "metadata": {},
     "output_type": "execute_result"
    },
    {
     "data": {
      "image/png": "[encoded data removed]",
      "text/plain": [
       "<Figure size 640x480 with 1 Axes>"
      ]
     },
     "metadata": {},
     "output_type": "display_data"
    }
   ],
   "source": [
    "\n",
    "nlp_df['developer'].value_counts().nlargest(5).sort_values(ascending=True).plot.barh()"
   ]
  },
  {
   "cell_type": "code",
   "execution_count": 38,
   "id": "92dbb289",
   "metadata": {},
   "outputs": [],
   "source": [
    "nlp_df['category'] = nlp_df.category.map(lambda x:x.split(\",\")[0])"
   ]
  },
  {
   "cell_type": "code",
   "execution_count": 39,
   "id": "55cd8807",
   "metadata": {},
   "outputs": [
    {
     "data": {
      "text/plain": [
       "<Axes: ylabel='category'>"
      ]
     },
     "execution_count": 39,
     "metadata": {},
     "output_type": "execute_result"
    },
    {
     "data": {
      "image/png": "[encoded data removed]",
      "text/plain": [
       "<Figure size 640x480 with 1 Axes>"
      ]
     },
     "metadata": {},
     "output_type": "display_data"
    }
   ],
   "source": [
    "nlp_df['category'].value_counts().nlargest(5).sort_values(ascending=True).plot.barh()"
   ]
  },
  {
   "cell_type": "code",
   "execution_count": 40,
   "id": "2b1ae999",
   "metadata": {},
   "outputs": [
    {
     "data": {
      "text/plain": [
       "160"
      ]
     },
     "execution_count": 40,
     "metadata": {},
     "output_type": "execute_result"
    }
   ],
   "source": [
    "nlp_df['category'].nunique()"
   ]
  },
  {
   "cell_type": "code",
   "execution_count": 44,
   "id": "8c3b941b",
   "metadata": {},
   "outputs": [],
   "source": [
    "nlp_df['tags'] = nlp_df['desc'] + nlp_df['features']"
   ]
  },
  {
   "cell_type": "code",
   "execution_count": 49,
   "id": "71013459",
   "metadata": {},
   "outputs": [
    {
     "data": {
      "text/plain": [
       "'Valentina Studio Pro 2024 is an award-winning application for modelling, reporting, editing, and managing the database. It provides a wide range of compression tools, diagnose capabilities, cloning functions, reindexing and defragment tools enabling users to create, alter, and browse various database elements, including tables, fields, indexes, and triggers. It enables database developers to easily run queries, administer and explore a wide range of popular databases such as MySQL, Valentina DB, PostgreSQL, MariaDB and SQLite. The GUI is neat and clean offering smooth navigation between the various database editing functions. It also supports simultaneous handling for multiple objects in multiple databases. You can also download Database Workbench Pro Free Download. Valentina Studio Pro 2024 is the ultimate suite which offers a perfect solution for comprehensive database development and management throughout the entire lifecycle. It enables database developers to create and modify all schema objects of supported databases such as Tables, Views, Fields, Enums, Links, Constraints, Triggers, Indexes, Stored Procedures. It also empowers users to manage privileges, run diagnostics, view live logs, create and alter Schedule events. It also has the ability to manage several databases in dockable views and tabs as well as edit the properties of several databases. The program also includes Valentina Reports and Forms to help users design, view, and print customizable reports. Additionally, it has the ability to remotely register or unregister databases and much more. Overall, Valentina Studio Pro 2024 is the leading data management application for database developers and administrators designed to help them manage databases in a highly professional way. You can also download Database .NET Professional Free Download.'"
      ]
     },
     "execution_count": 49,
     "metadata": {},
     "output_type": "execute_result"
    }
   ],
   "source": [
    "nlp_df.desc[0]"
   ]
  },
  {
   "cell_type": "code",
   "execution_count": 48,
   "id": "7e9c9970",
   "metadata": {},
   "outputs": [
    {
     "data": {
      "text/html": [
       "<div>\n",
       "<style scoped>\n",
       "    .dataframe tbody tr th:only-of-type {\n",
       "        vertical-align: middle;\n",
       "    }\n",
       "\n",
       "    .dataframe tbody tr th {\n",
       "        vertical-align: top;\n",
       "    }\n",
       "\n",
       "    .dataframe thead th {\n",
       "        text-align: right;\n",
       "    }\n",
       "</style>\n",
       "<table border=\"1\" class=\"dataframe\">\n",
       "  <thead>\n",
       "    <tr style=\"text-align: right;\">\n",
       "      <th></th>\n",
       "      <th>name</th>\n",
       "      <th>developer</th>\n",
       "      <th>category</th>\n",
       "      <th>desc</th>\n",
       "      <th>features</th>\n",
       "      <th>img_link</th>\n",
       "      <th>tags</th>\n",
       "    </tr>\n",
       "  </thead>\n",
       "  <tbody>\n",
       "    <tr>\n",
       "      <th>0</th>\n",
       "      <td>Valentina Studio Pro 2024</td>\n",
       "      <td>Valentina Studio Pro</td>\n",
       "      <td>Database</td>\n",
       "      <td>Valentina Studio Pro 2024 is an award-winning ...</td>\n",
       "      <td>Award-winning application for modelling, repor...</td>\n",
       "      <td>https://media.getintopc.com/2024/06/Valentina-...</td>\n",
       "      <td>Valentina Studio Pro 2024 is an award-winning ...</td>\n",
       "    </tr>\n",
       "    <tr>\n",
       "      <th>1</th>\n",
       "      <td>Paragon APFS for Windows 2024</td>\n",
       "      <td>Paragon APFS for Windows</td>\n",
       "      <td>Softwares</td>\n",
       "      <td>Paragon APFS for Windows 2024 is a professiona...</td>\n",
       "      <td>Allows you to browse, read and write files on ...</td>\n",
       "      <td>https://media.getintopc.com/2024/06/Paragon-AP...</td>\n",
       "      <td>Paragon APFS for Windows 2024 is a professiona...</td>\n",
       "    </tr>\n",
       "    <tr>\n",
       "      <th>2</th>\n",
       "      <td>Master Packager Pro 2024</td>\n",
       "      <td>Master Packager Pro</td>\n",
       "      <td>Installer Creation</td>\n",
       "      <td>Master Packager Pro 2024 is a professional app...</td>\n",
       "      <td>Allows developers to easily create and edit Mi...</td>\n",
       "      <td>https://media.getintopc.com/2024/06/Master-Pac...</td>\n",
       "      <td>Master Packager Pro 2024 is a professional app...</td>\n",
       "    </tr>\n",
       "    <tr>\n",
       "      <th>3</th>\n",
       "      <td>Topaz Gigapixel AI 2024</td>\n",
       "      <td>Topaz Gigapixel</td>\n",
       "      <td>Photo Editing</td>\n",
       "      <td>Topaz Gigapixel AI 2024 is a professional phot...</td>\n",
       "      <td>Allows you to easily increase the resolution o...</td>\n",
       "      <td>https://media.getintopc.com/2024/07/Topaz-Giga...</td>\n",
       "      <td>Topaz Gigapixel AI 2024 is a professional phot...</td>\n",
       "    </tr>\n",
       "    <tr>\n",
       "      <th>4</th>\n",
       "      <td>Navicat Premium 2024</td>\n",
       "      <td>Navicat</td>\n",
       "      <td>3D Designing</td>\n",
       "      <td>Navicat Premium 2024 is a powerful and effecti...</td>\n",
       "      <td>Allows you to easily and quickly connect to a ...</td>\n",
       "      <td>https://media.getintopc.com/2024/06/Navicat-Pr...</td>\n",
       "      <td>Navicat Premium 2024 is a powerful and effecti...</td>\n",
       "    </tr>\n",
       "    <tr>\n",
       "      <th>...</th>\n",
       "      <td>...</td>\n",
       "      <td>...</td>\n",
       "      <td>...</td>\n",
       "      <td>...</td>\n",
       "      <td>...</td>\n",
       "      <td>...</td>\n",
       "      <td>...</td>\n",
       "    </tr>\n",
       "    <tr>\n",
       "      <th>15116</th>\n",
       "      <td>Typing Master</td>\n",
       "      <td>Typing Master Inc</td>\n",
       "      <td>Softwares</td>\n",
       "      <td>Typing Master is a typing assistance applicati...</td>\n",
       "      <td>Easy to use. One of the most efficient typing ...</td>\n",
       "      <td>https://media.getintopc.com/2013/02/Typing-Mas...</td>\n",
       "      <td>Typing Master is a typing assistance applicati...</td>\n",
       "    </tr>\n",
       "    <tr>\n",
       "      <th>15117</th>\n",
       "      <td>Uniblue DriverScanner</td>\n",
       "      <td>Uniblue Systems</td>\n",
       "      <td>Utilities</td>\n",
       "      <td>Drivers are necessary for establishing a conne...</td>\n",
       "      <td>Simple and straightforward interface. Updates ...</td>\n",
       "      <td>https://media.getintopc.com/2013/02/138376-140...</td>\n",
       "      <td>Drivers are necessary for establishing a conne...</td>\n",
       "    </tr>\n",
       "    <tr>\n",
       "      <th>15118</th>\n",
       "      <td>ESET NOD32</td>\n",
       "      <td>ESET</td>\n",
       "      <td>Antivirus</td>\n",
       "      <td>ESET NOD32 is a popular antivirus which provid...</td>\n",
       "      <td>Provides protection against viruses, Trojans, ...</td>\n",
       "      <td>https://media.getintopc.com/2013/02/ESET-NOD32...</td>\n",
       "      <td>ESET NOD32 is a popular antivirus which provid...</td>\n",
       "    </tr>\n",
       "    <tr>\n",
       "      <th>15119</th>\n",
       "      <td>TeamViewer 8</td>\n",
       "      <td>TeamViewer Inc</td>\n",
       "      <td>Utilities</td>\n",
       "      <td>TeamViewer 8 is an application which will let ...</td>\n",
       "      <td>Can control distant computers remotely via int...</td>\n",
       "      <td>https://media.getintopc.com/2013/02/TeamViewer...</td>\n",
       "      <td>TeamViewer 8 is an application which will let ...</td>\n",
       "    </tr>\n",
       "    <tr>\n",
       "      <th>15120</th>\n",
       "      <td>Kaspersky Antivirus 2010</td>\n",
       "      <td>Kaspersky Labs</td>\n",
       "      <td>Antivirus</td>\n",
       "      <td>Kaspersky Antivirus 2010 is a comprehensive an...</td>\n",
       "      <td>Comprehensive anti-malware and spyware utility...</td>\n",
       "      <td>https://media.getintopc.com/2013/02/51nZK+7gL1...</td>\n",
       "      <td>Kaspersky Antivirus 2010 is a comprehensive an...</td>\n",
       "    </tr>\n",
       "  </tbody>\n",
       "</table>\n",
       "<p>14949 rows × 7 columns</p>\n",
       "</div>"
      ],
      "text/plain": [
       "                                name                 developer  \\\n",
       "0          Valentina Studio Pro 2024      Valentina Studio Pro   \n",
       "1      Paragon APFS for Windows 2024  Paragon APFS for Windows   \n",
       "2           Master Packager Pro 2024       Master Packager Pro   \n",
       "3            Topaz Gigapixel AI 2024           Topaz Gigapixel   \n",
       "4               Navicat Premium 2024                   Navicat   \n",
       "...                              ...                       ...   \n",
       "15116                  Typing Master         Typing Master Inc   \n",
       "15117          Uniblue DriverScanner           Uniblue Systems   \n",
       "15118                     ESET NOD32                      ESET   \n",
       "15119                   TeamViewer 8            TeamViewer Inc   \n",
       "15120       Kaspersky Antivirus 2010            Kaspersky Labs   \n",
       "\n",
       "                 category                                               desc  \\\n",
       "0                Database  Valentina Studio Pro 2024 is an award-winning ...   \n",
       "1               Softwares  Paragon APFS for Windows 2024 is a professiona...   \n",
       "2      Installer Creation  Master Packager Pro 2024 is a professional app...   \n",
       "3           Photo Editing  Topaz Gigapixel AI 2024 is a professional phot...   \n",
       "4            3D Designing  Navicat Premium 2024 is a powerful and effecti...   \n",
       "...                   ...                                                ...   \n",
       "15116           Softwares  Typing Master is a typing assistance applicati...   \n",
       "15117           Utilities  Drivers are necessary for establishing a conne...   \n",
       "15118           Antivirus  ESET NOD32 is a popular antivirus which provid...   \n",
       "15119           Utilities  TeamViewer 8 is an application which will let ...   \n",
       "15120           Antivirus  Kaspersky Antivirus 2010 is a comprehensive an...   \n",
       "\n",
       "                                                features  \\\n",
       "0      Award-winning application for modelling, repor...   \n",
       "1      Allows you to browse, read and write files on ...   \n",
       "2      Allows developers to easily create and edit Mi...   \n",
       "3      Allows you to easily increase the resolution o...   \n",
       "4      Allows you to easily and quickly connect to a ...   \n",
       "...                                                  ...   \n",
       "15116  Easy to use. One of the most efficient typing ...   \n",
       "15117  Simple and straightforward interface. Updates ...   \n",
       "15118  Provides protection against viruses, Trojans, ...   \n",
       "15119  Can control distant computers remotely via int...   \n",
       "15120  Comprehensive anti-malware and spyware utility...   \n",
       "\n",
       "                                                img_link  \\\n",
       "0      https://media.getintopc.com/2024/06/Valentina-...   \n",
       "1      https://media.getintopc.com/2024/06/Paragon-AP...   \n",
       "2      https://media.getintopc.com/2024/06/Master-Pac...   \n",
       "3      https://media.getintopc.com/2024/07/Topaz-Giga...   \n",
       "4      https://media.getintopc.com/2024/06/Navicat-Pr...   \n",
       "...                                                  ...   \n",
       "15116  https://media.getintopc.com/2013/02/Typing-Mas...   \n",
       "15117  https://media.getintopc.com/2013/02/138376-140...   \n",
       "15118  https://media.getintopc.com/2013/02/ESET-NOD32...   \n",
       "15119  https://media.getintopc.com/2013/02/TeamViewer...   \n",
       "15120  https://media.getintopc.com/2013/02/51nZK+7gL1...   \n",
       "\n",
       "                                                    tags  \n",
       "0      Valentina Studio Pro 2024 is an award-winning ...  \n",
       "1      Paragon APFS for Windows 2024 is a professiona...  \n",
       "2      Master Packager Pro 2024 is a professional app...  \n",
       "3      Topaz Gigapixel AI 2024 is a professional phot...  \n",
       "4      Navicat Premium 2024 is a powerful and effecti...  \n",
       "...                                                  ...  \n",
       "15116  Typing Master is a typing assistance applicati...  \n",
       "15117  Drivers are necessary for establishing a conne...  \n",
       "15118  ESET NOD32 is a popular antivirus which provid...  \n",
       "15119  TeamViewer 8 is an application which will let ...  \n",
       "15120  Kaspersky Antivirus 2010 is a comprehensive an...  \n",
       "\n",
       "[14949 rows x 7 columns]"
      ]
     },
     "execution_count": 48,
     "metadata": {},
     "output_type": "execute_result"
    }
   ],
   "source": [
    "nlp_df"
   ]
  }
 ],
 "metadata": {
  "kernelspec": {
   "display_name": "Python 3",
   "language": "python",
   "name": "python3"
  },
  "language_info": {
   "codemirror_mode": {
    "name": "ipython",
    "version": 3
   },
   "file_extension": ".py",
   "mimetype": "text/x-python",
   "name": "python",
   "nbconvert_exporter": "python",
   "pygments_lexer": "ipython3",
   "version": "3.12.2"
  }
 },
 "nbformat": 4,
 "nbformat_minor": 5
}
