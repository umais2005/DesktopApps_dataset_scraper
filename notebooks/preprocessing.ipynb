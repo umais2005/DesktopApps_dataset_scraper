{
 "cells": [
  {
   "cell_type": "code",
   "execution_count": 40,
   "id": "initial_id",
   "metadata": {
    "collapsed": true
   },
   "outputs": [],
   "source": [
    "import pandas as pd # type: ignore\n",
    "import json\n",
    "import re\n",
    "import numpy as np\n",
    "import warnings\n",
    "from datetime import datetime\n",
    "import matplotlib.pyplot as plt"
   ]
  },
  {
   "cell_type": "markdown",
   "id": "ce5bd97e",
   "metadata": {},
   "source": [
    "### Import the data and make it workable"
   ]
  },
  {
   "cell_type": "code",
   "execution_count": 41,
   "id": "ee622cd9",
   "metadata": {},
   "outputs": [],
   "source": [
    "# append_paths = [f'../data/raw/by_pages/page_{page_num}_apps.json' for page_num in range(0,3039)]\n",
    "# apps = []\n",
    "# for page_path in append_paths:\n",
    "#     page = json.loads(open(page_path, 'r').read())\n",
    "#     apps.extend(page)\n",
    "# with open('workable_apps.json','w')as f:\n",
    "#     json.dump(apps, f, indent=4)"
   ]
  },
  {
   "cell_type": "code",
   "execution_count": 42,
   "id": "40686aba",
   "metadata": {},
   "outputs": [],
   "source": [
    "with open('workable_apps.json','r')as f:\n",
    "    apps = json.loads(f.read())\n"
   ]
  },
  {
   "cell_type": "code",
   "execution_count": 43,
   "id": "a3c0130e",
   "metadata": {},
   "outputs": [
    {
     "data": {
      "text/plain": [
       "(17768, 33)"
      ]
     },
     "execution_count": 43,
     "metadata": {},
     "output_type": "execute_result"
    }
   ],
   "source": [
    "df = pd.DataFrame([app for app in apps if app])\n",
    "df.shape"
   ]
  },
  {
   "cell_type": "code",
   "execution_count": 44,
   "id": "526bba12",
   "metadata": {},
   "outputs": [
    {
     "data": {
      "text/plain": [
       "(17768, 33)"
      ]
     },
     "execution_count": 44,
     "metadata": {},
     "output_type": "execute_result"
    }
   ],
   "source": [
    "n_na = df.isna().sum(axis=0)\n",
    "n_na.round(2)  # Percentage of missing values\n",
    "df.shape"
   ]
  },
  {
   "cell_type": "code",
   "execution_count": 45,
   "id": "adcacf10",
   "metadata": {},
   "outputs": [
    {
     "data": {
      "text/html": [
       "<div>\n",
       "<style scoped>\n",
       "    .dataframe tbody tr th:only-of-type {\n",
       "        vertical-align: middle;\n",
       "    }\n",
       "\n",
       "    .dataframe tbody tr th {\n",
       "        vertical-align: top;\n",
       "    }\n",
       "\n",
       "    .dataframe thead th {\n",
       "        text-align: right;\n",
       "    }\n",
       "</style>\n",
       "<table border=\"1\" class=\"dataframe\">\n",
       "  <thead>\n",
       "    <tr style=\"text-align: right;\">\n",
       "      <th></th>\n",
       "      <th>name</th>\n",
       "      <th>category</th>\n",
       "      <th>developer</th>\n",
       "      <th>release</th>\n",
       "      <th>setup_size</th>\n",
       "      <th>setup_type</th>\n",
       "      <th>compatibility</th>\n",
       "      <th>operating_system</th>\n",
       "      <th>ram_required</th>\n",
       "      <th>hdd_space</th>\n",
       "      <th>...</th>\n",
       "      <th>extra_10</th>\n",
       "      <th>extra_11</th>\n",
       "      <th>extra_12</th>\n",
       "      <th>extra_13</th>\n",
       "      <th>extra_14</th>\n",
       "      <th>extra_15</th>\n",
       "      <th>extra_16</th>\n",
       "      <th>extra_17</th>\n",
       "      <th>extra_18</th>\n",
       "      <th>extra_19</th>\n",
       "    </tr>\n",
       "  </thead>\n",
       "  <tbody>\n",
       "    <tr>\n",
       "      <th>0</th>\n",
       "      <td>Valentina Studio Pro 2024</td>\n",
       "      <td>Database, Development</td>\n",
       "      <td>Valentina Studio Pro</td>\n",
       "      <td>10th July 2024</td>\n",
       "      <td>118 MB</td>\n",
       "      <td>Offline Installer / Full Standalone Setup</td>\n",
       "      <td>32 Bit (x86) / 64 Bit (x64)</td>\n",
       "      <td>Windows 7/8/10</td>\n",
       "      <td>1 GB</td>\n",
       "      <td>1 GB</td>\n",
       "      <td>...</td>\n",
       "      <td>NaN</td>\n",
       "      <td>NaN</td>\n",
       "      <td>NaN</td>\n",
       "      <td>NaN</td>\n",
       "      <td>NaN</td>\n",
       "      <td>NaN</td>\n",
       "      <td>NaN</td>\n",
       "      <td>NaN</td>\n",
       "      <td>NaN</td>\n",
       "      <td>NaN</td>\n",
       "    </tr>\n",
       "    <tr>\n",
       "      <th>1</th>\n",
       "      <td>Paragon APFS for Windows 2024</td>\n",
       "      <td>Softwares</td>\n",
       "      <td>Paragon APFS for Windows</td>\n",
       "      <td>10th July 2024</td>\n",
       "      <td>36 MB</td>\n",
       "      <td>Offline Installer / Full Standalone Setup</td>\n",
       "      <td>32 Bit (x86) / 64 Bit (x64)</td>\n",
       "      <td>Windows 7/8/10</td>\n",
       "      <td>1 GB</td>\n",
       "      <td>100 MB</td>\n",
       "      <td>...</td>\n",
       "      <td>NaN</td>\n",
       "      <td>NaN</td>\n",
       "      <td>NaN</td>\n",
       "      <td>NaN</td>\n",
       "      <td>NaN</td>\n",
       "      <td>NaN</td>\n",
       "      <td>NaN</td>\n",
       "      <td>NaN</td>\n",
       "      <td>NaN</td>\n",
       "      <td>NaN</td>\n",
       "    </tr>\n",
       "    <tr>\n",
       "      <th>2</th>\n",
       "      <td>Master Packager Pro 2024</td>\n",
       "      <td>Installer Creation</td>\n",
       "      <td>Master Packager Pro</td>\n",
       "      <td>10th July 2024</td>\n",
       "      <td>66 MB</td>\n",
       "      <td>Offline Installer / Full Standalone Setup</td>\n",
       "      <td>32 Bit (x86) / 64 Bit (x64)</td>\n",
       "      <td>Windows 7/8/10</td>\n",
       "      <td>1 GB</td>\n",
       "      <td>500 MB</td>\n",
       "      <td>...</td>\n",
       "      <td>NaN</td>\n",
       "      <td>NaN</td>\n",
       "      <td>NaN</td>\n",
       "      <td>NaN</td>\n",
       "      <td>NaN</td>\n",
       "      <td>NaN</td>\n",
       "      <td>NaN</td>\n",
       "      <td>NaN</td>\n",
       "      <td>NaN</td>\n",
       "      <td>NaN</td>\n",
       "    </tr>\n",
       "    <tr>\n",
       "      <th>3</th>\n",
       "      <td>Topaz Gigapixel AI 2024</td>\n",
       "      <td>Photo Editing, Photo Retouching</td>\n",
       "      <td>Topaz Gigapixel</td>\n",
       "      <td>10th July 2024</td>\n",
       "      <td>286 MB</td>\n",
       "      <td>Offline Installer / Full Standalone Setup</td>\n",
       "      <td>32 Bit (x86) / 64 Bit (x64)</td>\n",
       "      <td>Windows 7/8/10</td>\n",
       "      <td>1 GB</td>\n",
       "      <td>200 MB</td>\n",
       "      <td>...</td>\n",
       "      <td>NaN</td>\n",
       "      <td>NaN</td>\n",
       "      <td>NaN</td>\n",
       "      <td>NaN</td>\n",
       "      <td>NaN</td>\n",
       "      <td>NaN</td>\n",
       "      <td>NaN</td>\n",
       "      <td>NaN</td>\n",
       "      <td>NaN</td>\n",
       "      <td>NaN</td>\n",
       "    </tr>\n",
       "    <tr>\n",
       "      <th>4</th>\n",
       "      <td>Navicat Premium 2024</td>\n",
       "      <td>3D Designing</td>\n",
       "      <td>Navicat</td>\n",
       "      <td>10th July 2024</td>\n",
       "      <td>184 MB</td>\n",
       "      <td>Offline Installer / Full Standalone Setup</td>\n",
       "      <td>32 Bit (x86) / 64 Bit (x64)</td>\n",
       "      <td>Windows 7/8/10</td>\n",
       "      <td>1 GB</td>\n",
       "      <td>100 MB</td>\n",
       "      <td>...</td>\n",
       "      <td>NaN</td>\n",
       "      <td>NaN</td>\n",
       "      <td>NaN</td>\n",
       "      <td>NaN</td>\n",
       "      <td>NaN</td>\n",
       "      <td>NaN</td>\n",
       "      <td>NaN</td>\n",
       "      <td>NaN</td>\n",
       "      <td>NaN</td>\n",
       "      <td>NaN</td>\n",
       "    </tr>\n",
       "  </tbody>\n",
       "</table>\n",
       "<p>5 rows × 33 columns</p>\n",
       "</div>"
      ],
      "text/plain": [
       "                            name                         category  \\\n",
       "0      Valentina Studio Pro 2024            Database, Development   \n",
       "1  Paragon APFS for Windows 2024                        Softwares   \n",
       "2       Master Packager Pro 2024               Installer Creation   \n",
       "3        Topaz Gigapixel AI 2024  Photo Editing, Photo Retouching   \n",
       "4           Navicat Premium 2024                     3D Designing   \n",
       "\n",
       "                  developer         release setup_size  \\\n",
       "0      Valentina Studio Pro  10th July 2024     118 MB   \n",
       "1  Paragon APFS for Windows  10th July 2024      36 MB   \n",
       "2       Master Packager Pro  10th July 2024      66 MB   \n",
       "3           Topaz Gigapixel  10th July 2024     286 MB   \n",
       "4                   Navicat  10th July 2024     184 MB   \n",
       "\n",
       "                                  setup_type                compatibility  \\\n",
       "0  Offline Installer / Full Standalone Setup  32 Bit (x86) / 64 Bit (x64)   \n",
       "1  Offline Installer / Full Standalone Setup  32 Bit (x86) / 64 Bit (x64)   \n",
       "2  Offline Installer / Full Standalone Setup  32 Bit (x86) / 64 Bit (x64)   \n",
       "3  Offline Installer / Full Standalone Setup  32 Bit (x86) / 64 Bit (x64)   \n",
       "4  Offline Installer / Full Standalone Setup  32 Bit (x86) / 64 Bit (x64)   \n",
       "\n",
       "  operating_system ram_required hdd_space  ... extra_10 extra_11 extra_12  \\\n",
       "0   Windows 7/8/10         1 GB      1 GB  ...      NaN      NaN      NaN   \n",
       "1   Windows 7/8/10         1 GB    100 MB  ...      NaN      NaN      NaN   \n",
       "2   Windows 7/8/10         1 GB    500 MB  ...      NaN      NaN      NaN   \n",
       "3   Windows 7/8/10         1 GB    200 MB  ...      NaN      NaN      NaN   \n",
       "4   Windows 7/8/10         1 GB    100 MB  ...      NaN      NaN      NaN   \n",
       "\n",
       "  extra_13 extra_14 extra_15 extra_16 extra_17 extra_18 extra_19  \n",
       "0      NaN      NaN      NaN      NaN      NaN      NaN      NaN  \n",
       "1      NaN      NaN      NaN      NaN      NaN      NaN      NaN  \n",
       "2      NaN      NaN      NaN      NaN      NaN      NaN      NaN  \n",
       "3      NaN      NaN      NaN      NaN      NaN      NaN      NaN  \n",
       "4      NaN      NaN      NaN      NaN      NaN      NaN      NaN  \n",
       "\n",
       "[5 rows x 33 columns]"
      ]
     },
     "execution_count": 45,
     "metadata": {},
     "output_type": "execute_result"
    }
   ],
   "source": [
    "df.head(5)"
   ]
  },
  {
   "cell_type": "code",
   "execution_count": 46,
   "id": "a60a5dc7",
   "metadata": {},
   "outputs": [
    {
     "data": {
      "text/plain": [
       "0         8\n",
       "1        -1\n",
       "2        -1\n",
       "3        13\n",
       "4        -1\n",
       "         ..\n",
       "17763    -1\n",
       "17764    -1\n",
       "17765    -1\n",
       "17766    -1\n",
       "17767    -1\n",
       "Name: category, Length: 17768, dtype: int64"
      ]
     },
     "execution_count": 46,
     "metadata": {},
     "output_type": "execute_result"
    }
   ],
   "source": [
    "df['category'].str.find(',')"
   ]
  },
  {
   "cell_type": "markdown",
   "id": "eac45914",
   "metadata": {},
   "source": [
    "### We can clean the columns with units example: hdd_space, ram, setup size, and also cpu"
   ]
  },
  {
   "cell_type": "markdown",
   "id": "48ac21cf",
   "metadata": {},
   "source": [
    "#### These are some cleaning functions"
   ]
  },
  {
   "cell_type": "code",
   "execution_count": 47,
   "id": "97cc3400",
   "metadata": {},
   "outputs": [],
   "source": [
    "import datetime as dt\n",
    "\n",
    "def parse_memory(x: str):\n",
    "   try:\n",
    "      # Extract the number part from the string\n",
    "      number = re.search(r'\\d+(\\.\\d+)?', x).group()\n",
    "      number = float(number)  # Convert the extracted number to a float\n",
    "   except (AttributeError, ValueError, TypeError):\n",
    "      return np.nan  # Return NaN if no valid number is found\n",
    "\n",
    "   # Determine the unit and convert accordingly\n",
    "   if re.search(r'(MB|mb)', x):\n",
    "      return number\n",
    "   elif re.search(r'(KB|kb)', x):\n",
    "      return number / 1000\n",
    "   elif re.search(r'(GB|gb)', x):\n",
    "      return number * 1000\n",
    "   return np.nan \n",
    "\n",
    "def parse_compatibility(x: str):\n",
    "   try:\n",
    "      matches =  re.findall(r'(32|64|86)', x)\n",
    "   except TypeError:\n",
    "      return np.nan\n",
    "   if matches:\n",
    "      if '86' in matches:\n",
    "         matches.remove('86')\n",
    "         matches.insert(0, '32')\n",
    "      matches = list(set(matches))\n",
    "      matches = [int(num) for num in matches]\n",
    "      return min(matches)\n",
    "   else:\n",
    "      return np.nan\n",
    "   \n",
    "def parse_date(date_str):\n",
    "   try:\n",
    "      # Remove the ordinal suffix (st, nd, rd, th)\n",
    "      date_str = re.sub(r'(\\d+)(st|nd|rd|th)', r'\\1', date_str)\n",
    "      # Convert to datetime\n",
    "      return pd.to_datetime(date_str, format='%d %B %Y')\n",
    "   except Exception as e:\n",
    "        np.nan\n",
    "    \n",
    "def categorize_os(value):\n",
    "   try:  \n",
    "      if re.search(r\"7/8/8\\.1/10\", value):\n",
    "         return \"Modern Versions\"\n",
    "      elif re.search(r\"7/8/10\", value):\n",
    "         return \"Modern Versions\"\n",
    "      elif re.search(r\"(2000/)?XP/Vista/7/8(/8\\.1)?/10\", value):\n",
    "         return \"All Windows versions\"\n",
    "      elif re.search(r\"XP/Vista/7\", value):\n",
    "         return \"Older Windows versions\"\n",
    "      else:\n",
    "         return \"Other\"\n",
    "   except TypeError:\n",
    "      return np.nan\n"
   ]
  },
  {
   "cell_type": "code",
   "execution_count": 48,
   "id": "392cbb14",
   "metadata": {},
   "outputs": [],
   "source": [
    "newdf = df.copy()"
   ]
  },
  {
   "cell_type": "code",
   "execution_count": 49,
   "id": "e2061f5c",
   "metadata": {},
   "outputs": [],
   "source": [
    "# parse_date(newdf.release[0])\n",
    "newdf['release'] = newdf['release'].map(parse_date)\n",
    "newdf['setup_size_MB'] = newdf['setup_size'].map(parse_memory)\n",
    "newdf['hdd_space_MB'] = newdf['hdd_space'].map(parse_memory)\n",
    "newdf['ram_required_MB'] = newdf['ram_required'].map(parse_memory)\n",
    "newdf['minimum_os_bits']  = newdf['compatibility'].map(parse_compatibility)\n",
    "newdf['os_version'] = newdf['operating_system'].map(categorize_os)\n",
    "newdf = newdf.drop(['setup_size', 'setup_type','compatibility', 'operating_system', 'ram_required', 'hdd_space'], axis=1)"
   ]
  },
  {
   "cell_type": "code",
   "execution_count": 50,
   "id": "27e5b8fe",
   "metadata": {},
   "outputs": [],
   "source": [
    "for col in list(newdf.columns):\n",
    "    if col.startswith('extra'):\n",
    "        newdf = newdf.drop(col, axis=1)\n",
    "\n",
    "newdf.drop('release', axis=1, inplace=True)"
   ]
  },
  {
   "cell_type": "code",
   "execution_count": 51,
   "id": "aed3adfc",
   "metadata": {},
   "outputs": [
    {
     "name": "stdout",
     "output_type": "stream",
     "text": [
      "<class 'pandas.core.frame.DataFrame'>\n",
      "RangeIndex: 17768 entries, 0 to 17767\n",
      "Data columns (total 12 columns):\n",
      " #   Column           Non-Null Count  Dtype  \n",
      "---  ------           --------------  -----  \n",
      " 0   name             17768 non-null  object \n",
      " 1   category         17768 non-null  object \n",
      " 2   developer        16379 non-null  object \n",
      " 3   cpu              17628 non-null  object \n",
      " 4   img_link         17752 non-null  object \n",
      " 5   desc             17768 non-null  object \n",
      " 6   features         17768 non-null  object \n",
      " 7   setup_size_MB    17175 non-null  float64\n",
      " 8   hdd_space_MB     16832 non-null  float64\n",
      " 9   ram_required_MB  16498 non-null  float64\n",
      " 10  minimum_os_bits  16970 non-null  float64\n",
      " 11  os_version       17628 non-null  object \n",
      "dtypes: float64(4), object(8)\n",
      "memory usage: 1.6+ MB\n"
     ]
    }
   ],
   "source": [
    "newdf.info()"
   ]
  },
  {
   "cell_type": "code",
   "execution_count": 52,
   "id": "e50c1268",
   "metadata": {},
   "outputs": [],
   "source": [
    "newdf['category'] = newdf['category'].astype(\"category\")\n",
    "newdf['os_version'] = newdf['os_version'].astype(\"category\")\n",
    "newdf['developer'] = newdf['developer'].astype(\"category\")"
   ]
  },
  {
   "cell_type": "code",
   "execution_count": 53,
   "id": "47c31165",
   "metadata": {},
   "outputs": [],
   "source": [
    "newdf.dropna(inplace=True)"
   ]
  },
  {
   "cell_type": "code",
   "execution_count": 54,
   "id": "7ccb874e",
   "metadata": {},
   "outputs": [],
   "source": [
    "newdf = newdf.dropna().reset_index(drop=True)"
   ]
  },
  {
   "cell_type": "code",
   "execution_count": 55,
   "id": "839ba131",
   "metadata": {},
   "outputs": [
    {
     "data": {
      "text/plain": [
       "(15121, 12)"
      ]
     },
     "execution_count": 55,
     "metadata": {},
     "output_type": "execute_result"
    }
   ],
   "source": [
    "newdf.shape"
   ]
  },
  {
   "cell_type": "code",
   "execution_count": 56,
   "id": "04a75daa",
   "metadata": {},
   "outputs": [
    {
     "data": {
      "text/plain": [
       "Text(0.5, 0, 'App count')"
      ]
     },
     "execution_count": 56,
     "metadata": {},
     "output_type": "execute_result"
    },
    {
     "data": {
      "image/png": "[encoded data removed]",
      "text/plain": [
       "<Figure size 600x300 with 1 Axes>"
      ]
     },
     "metadata": {},
     "output_type": "display_data"
    }
   ],
   "source": [
    "import seaborn as sns\n",
    "plt.figure(figsize=(6,3))\n",
    "ax = newdf.category.value_counts().nlargest(10).sort_values(ascending=True).plot.barh()\n",
    "ax.set_title(\"Top App Categories\")\n",
    "ax.set_xlabel(\"App count\")"
   ]
  },
  {
   "cell_type": "code",
   "execution_count": 57,
   "id": "099e3769",
   "metadata": {},
   "outputs": [],
   "source": [
    "def filter_dev(dev):\n",
    "    if len((dev.split())) > 4:\n",
    "        return np.nan\n",
    "    else:\n",
    "        return dev"
   ]
  },
  {
   "cell_type": "code",
   "execution_count": 58,
   "id": "1daefa56",
   "metadata": {},
   "outputs": [],
   "source": [
    "newdf['developer'] = newdf['developer'].map(filter_dev)\n",
    "# newdf['developer']#.map(lambda x: len((x.split())) < 3)"
   ]
  },
  {
   "cell_type": "code",
   "execution_count": 59,
   "id": "b64cfa1b",
   "metadata": {},
   "outputs": [],
   "source": [
    "newdf.dropna(inplace=True)"
   ]
  },
  {
   "cell_type": "code",
   "execution_count": 60,
   "id": "93e91101",
   "metadata": {},
   "outputs": [
    {
     "data": {
      "text/plain": [
       "(15060, 12)"
      ]
     },
     "execution_count": 60,
     "metadata": {},
     "output_type": "execute_result"
    }
   ],
   "source": [
    "newdf.shape"
   ]
  },
  {
   "cell_type": "code",
   "execution_count": 62,
   "id": "d6a9dffb",
   "metadata": {},
   "outputs": [],
   "source": [
    "nlp_df = newdf[[\"name\",\"developer\",\"category\", \"desc\", \"features\", \"img_link\"]]"
   ]
  },
  {
   "cell_type": "code",
   "execution_count": 63,
   "id": "1b8964e2",
   "metadata": {},
   "outputs": [],
   "source": [
    "nlp_df = nlp_df.drop((nlp_df[nlp_df['developer'] == 'Free'].index.values))"
   ]
  },
  {
   "cell_type": "code",
   "execution_count": null,
   "id": "5e94b6eb",
   "metadata": {},
   "outputs": [],
   "source": []
  },
  {
   "cell_type": "code",
   "execution_count": 163,
   "id": "b3adc605",
   "metadata": {},
   "outputs": [
    {
     "data": {
      "text/plain": [
       "<Axes: ylabel='developer'>"
      ]
     },
     "execution_count": 163,
     "metadata": {},
     "output_type": "execute_result"
    },
    {
     "data": {
      "image/png": "[encoded data removed]",
      "text/plain": [
       "<Figure size 640x480 with 1 Axes>"
      ]
     },
     "metadata": {},
     "output_type": "display_data"
    }
   ],
   "source": [
    "\n",
    "nlp_df['developer'].value_counts().nlargest(10).sort_values(ascending=True).plot.barh()"
   ]
  },
  {
   "cell_type": "code",
   "execution_count": 65,
   "id": "92dbb289",
   "metadata": {},
   "outputs": [],
   "source": [
    "nlp_df['category'] = nlp_df.category.map(lambda x:x.split(\",\")[0])"
   ]
  },
  {
   "cell_type": "code",
   "execution_count": 158,
   "id": "55cd8807",
   "metadata": {},
   "outputs": [
    {
     "data": {
      "text/plain": [
       "<Axes: ylabel='category'>"
      ]
     },
     "execution_count": 158,
     "metadata": {},
     "output_type": "execute_result"
    },
    {
     "data": {
      "image/png": "[encoded data removed]",
      "text/plain": [
       "<Figure size 640x480 with 1 Axes>"
      ]
     },
     "metadata": {},
     "output_type": "display_data"
    }
   ],
   "source": [
    "nlp_df['category'].value_counts().nlargest(10).sort_values(ascending=True).plot.barh()"
   ]
  },
  {
   "cell_type": "code",
   "execution_count": 67,
   "id": "2b1ae999",
   "metadata": {},
   "outputs": [
    {
     "data": {
      "text/plain": [
       "160"
      ]
     },
     "execution_count": 67,
     "metadata": {},
     "output_type": "execute_result"
    }
   ],
   "source": [
    "nlp_df['category'].nunique()"
   ]
  },
  {
   "cell_type": "code",
   "execution_count": 68,
   "id": "8c3b941b",
   "metadata": {},
   "outputs": [],
   "source": [
    "nlp_df['tags'] = nlp_df['desc'] + nlp_df['features']"
   ]
  },
  {
   "cell_type": "code",
   "execution_count": 69,
   "id": "71013459",
   "metadata": {},
   "outputs": [
    {
     "data": {
      "text/plain": [
       "'Valentina Studio Pro 2024 is an award-winning application for modelling, reporting, editing, and managing the database. It provides a wide range of compression tools, diagnose capabilities, cloning functions, reindexing and defragment tools enabling users to create, alter, and browse various database elements, including tables, fields, indexes, and triggers. It enables database developers to easily run queries, administer and explore a wide range of popular databases such as MySQL, Valentina DB, PostgreSQL, MariaDB and SQLite. The GUI is neat and clean offering smooth navigation between the various database editing functions. It also supports simultaneous handling for multiple objects in multiple databases. You can also download Database Workbench Pro Free Download. Valentina Studio Pro 2024 is the ultimate suite which offers a perfect solution for comprehensive database development and management throughout the entire lifecycle. It enables database developers to create and modify all schema objects of supported databases such as Tables, Views, Fields, Enums, Links, Constraints, Triggers, Indexes, Stored Procedures. It also empowers users to manage privileges, run diagnostics, view live logs, create and alter Schedule events. It also has the ability to manage several databases in dockable views and tabs as well as edit the properties of several databases. The program also includes Valentina Reports and Forms to help users design, view, and print customizable reports. Additionally, it has the ability to remotely register or unregister databases and much more. Overall, Valentina Studio Pro 2024 is the leading data management application for database developers and administrators designed to help them manage databases in a highly professional way. You can also download Database .NET Professional Free Download.'"
      ]
     },
     "execution_count": 69,
     "metadata": {},
     "output_type": "execute_result"
    }
   ],
   "source": [
    "nlp_df.desc[0]"
   ]
  },
  {
   "cell_type": "code",
   "execution_count": 71,
   "id": "7e9c9970",
   "metadata": {},
   "outputs": [
    {
     "data": {
      "text/plain": [
       "name         0\n",
       "developer    0\n",
       "category     0\n",
       "desc         0\n",
       "features     0\n",
       "img_link     0\n",
       "tags         0\n",
       "dtype: int64"
      ]
     },
     "execution_count": 71,
     "metadata": {},
     "output_type": "execute_result"
    }
   ],
   "source": [
    "n_na = nlp_df.isna().sum(axis=0)\n",
    "n_na.round(2)  # Percentage of missing values"
   ]
  },
  {
   "cell_type": "code",
   "execution_count": 73,
   "id": "7833ae41",
   "metadata": {},
   "outputs": [],
   "source": [
    "X = nlp_df.iloc[:,[0,1,3,4,5,6]]\n",
    "Y = nlp_df['category']"
   ]
  },
  {
   "cell_type": "code",
   "execution_count": 160,
   "id": "a9d023bd",
   "metadata": {},
   "outputs": [
    {
     "name": "stdout",
     "output_type": "stream",
     "text": [
      "[0.0, 0.16114790286975716, 0.2661716502776105, 0.34223024951501774, 0.39414007625928155, 0.44324035052511873, 0.48177135594354137, 0.5192320556558967, 0.5478627332931969, 0.5760920462907217, 0.5979664191584722, 0.619372533279818, 0.6402434945481303, 0.6579704328048699, 0.6724864539434076, 0.6864004281222824, 0.7001137199812697, 0.7133587530938524, 0.7251321158605927, 0.7358351729212657]\n"
     ]
    },
    {
     "data": {
      "text/plain": [
       "[<matplotlib.lines.Line2D at 0x1aeccec6120>]"
      ]
     },
     "execution_count": 160,
     "metadata": {},
     "output_type": "execute_result"
    },
    {
     "data": {
      "image/png": "[encoded data removed]",
      "text/plain": [
       "<Figure size 640x480 with 1 Axes>"
      ]
     },
     "metadata": {},
     "output_type": "display_data"
    }
   ],
   "source": [
    "n_category_to_percent = [nlp_df.category.value_counts().nlargest(i).sum() / nlp_df.shape[0] for i in range(20)]\n",
    "print(n_category_to_percent)\n",
    "plt.bar(x=range(20),height = n_category_to_percent, tick_label = range(20))\n",
    "plot = plt.plot( n_category_to_percent)\n",
    "# Roughly 60 percent of the data.\n"
   ]
  },
  {
   "cell_type": "markdown",
   "id": "b2f56bce",
   "metadata": {},
   "source": [
    "#### By seeing the above graph top 10 categories can be a suitable option because after that we arent getting more of the dataset. There is a tradeoff here between the categories and dataset size."
   ]
  },
  {
   "cell_type": "code",
   "execution_count": 141,
   "id": "94a391c0",
   "metadata": {},
   "outputs": [],
   "source": [
    "top_10_cat = nlp_df.category.value_counts().nlargest(10).index.values"
   ]
  },
  {
   "cell_type": "markdown",
   "id": "6092a2f2",
   "metadata": {},
   "source": [
    "#### We have 160 categories of apps in our dataset. I might choose the top 10 categories for modelling, but then the dataset will be reduced to around 60%"
   ]
  },
  {
   "cell_type": "code",
   "execution_count": 154,
   "id": "c6702f7d",
   "metadata": {},
   "outputs": [],
   "source": [
    "reduce_filter = nlp_df['category'].map(lambda x:x in top_10_cat)\n",
    "top_10_df = nlp_df[reduce_filter]\n"
   ]
  },
  {
   "cell_type": "code",
   "execution_count": 162,
   "id": "d6b7e3cd",
   "metadata": {},
   "outputs": [
    {
     "name": "stdout",
     "output_type": "stream",
     "text": [
      "(8939, 7)\n"
     ]
    },
    {
     "data": {
      "text/html": [
       "<div>\n",
       "<style scoped>\n",
       "    .dataframe tbody tr th:only-of-type {\n",
       "        vertical-align: middle;\n",
       "    }\n",
       "\n",
       "    .dataframe tbody tr th {\n",
       "        vertical-align: top;\n",
       "    }\n",
       "\n",
       "    .dataframe thead th {\n",
       "        text-align: right;\n",
       "    }\n",
       "</style>\n",
       "<table border=\"1\" class=\"dataframe\">\n",
       "  <thead>\n",
       "    <tr style=\"text-align: right;\">\n",
       "      <th></th>\n",
       "      <th>name</th>\n",
       "      <th>developer</th>\n",
       "      <th>category</th>\n",
       "      <th>desc</th>\n",
       "      <th>features</th>\n",
       "      <th>img_link</th>\n",
       "      <th>tags</th>\n",
       "    </tr>\n",
       "  </thead>\n",
       "  <tbody>\n",
       "    <tr>\n",
       "      <th>1</th>\n",
       "      <td>Paragon APFS for Windows 2024</td>\n",
       "      <td>Paragon APFS for Windows</td>\n",
       "      <td>Softwares</td>\n",
       "      <td>Paragon APFS for Windows 2024 is a professiona...</td>\n",
       "      <td>Allows you to browse, read and write files on ...</td>\n",
       "      <td>https://media.getintopc.com/2024/06/Paragon-AP...</td>\n",
       "      <td>Paragon APFS for Windows 2024 is a professiona...</td>\n",
       "    </tr>\n",
       "    <tr>\n",
       "      <th>3</th>\n",
       "      <td>Topaz Gigapixel AI 2024</td>\n",
       "      <td>Topaz Gigapixel</td>\n",
       "      <td>Photo Editing</td>\n",
       "      <td>Topaz Gigapixel AI 2024 is a professional phot...</td>\n",
       "      <td>Allows you to easily increase the resolution o...</td>\n",
       "      <td>https://media.getintopc.com/2024/07/Topaz-Giga...</td>\n",
       "      <td>Topaz Gigapixel AI 2024 is a professional phot...</td>\n",
       "    </tr>\n",
       "    <tr>\n",
       "      <th>4</th>\n",
       "      <td>Navicat Premium 2024</td>\n",
       "      <td>Navicat</td>\n",
       "      <td>3D Designing</td>\n",
       "      <td>Navicat Premium 2024 is a powerful and effecti...</td>\n",
       "      <td>Allows you to easily and quickly connect to a ...</td>\n",
       "      <td>https://media.getintopc.com/2024/06/Navicat-Pr...</td>\n",
       "      <td>Navicat Premium 2024 is a powerful and effecti...</td>\n",
       "    </tr>\n",
       "    <tr>\n",
       "      <th>5</th>\n",
       "      <td>Arqcom CAD-Earth 2024</td>\n",
       "      <td>Arqcom CAD</td>\n",
       "      <td>3D CAD</td>\n",
       "      <td>Arqcom CAD-Earth 2024 is a professional applic...</td>\n",
       "      <td>Allows you to import and export graphical data...</td>\n",
       "      <td>https://media.getintopc.com/2024/07/Arqcom-CAD...</td>\n",
       "      <td>Arqcom CAD-Earth 2024 is a professional applic...</td>\n",
       "    </tr>\n",
       "    <tr>\n",
       "      <th>7</th>\n",
       "      <td>Paragon APFS for Windows 2024</td>\n",
       "      <td>Paragon APFS for Windows</td>\n",
       "      <td>Softwares</td>\n",
       "      <td>Paragon APFS for Windows 2024 is a professiona...</td>\n",
       "      <td>Allows you to browse, read and write files on ...</td>\n",
       "      <td>https://media.getintopc.com/2024/06/Paragon-AP...</td>\n",
       "      <td>Paragon APFS for Windows 2024 is a professiona...</td>\n",
       "    </tr>\n",
       "    <tr>\n",
       "      <th>...</th>\n",
       "      <td>...</td>\n",
       "      <td>...</td>\n",
       "      <td>...</td>\n",
       "      <td>...</td>\n",
       "      <td>...</td>\n",
       "      <td>...</td>\n",
       "      <td>...</td>\n",
       "    </tr>\n",
       "    <tr>\n",
       "      <th>15109</th>\n",
       "      <td>Autodesk 3ds Max 2014</td>\n",
       "      <td>Autodesk</td>\n",
       "      <td>Development</td>\n",
       "      <td>This application has two different versions. O...</td>\n",
       "      <td>It is the most complete 3D modeling software. ...</td>\n",
       "      <td>https://media.getintopc.com/2013/07/download-3...</td>\n",
       "      <td>This application has two different versions. O...</td>\n",
       "    </tr>\n",
       "    <tr>\n",
       "      <th>15113</th>\n",
       "      <td>TuneUp Utilities 2013</td>\n",
       "      <td>AVG Technologies</td>\n",
       "      <td>Utilities</td>\n",
       "      <td>TuneUp Utilities 2013 is an application that c...</td>\n",
       "      <td>Cleans your system from unnecessary files. Boo...</td>\n",
       "      <td>https://media.getintopc.com/2013/03/TuneUp-Uti...</td>\n",
       "      <td>TuneUp Utilities 2013 is an application that c...</td>\n",
       "    </tr>\n",
       "    <tr>\n",
       "      <th>15116</th>\n",
       "      <td>Typing Master</td>\n",
       "      <td>Typing Master Inc</td>\n",
       "      <td>Softwares</td>\n",
       "      <td>Typing Master is a typing assistance applicati...</td>\n",
       "      <td>Easy to use. One of the most efficient typing ...</td>\n",
       "      <td>https://media.getintopc.com/2013/02/Typing-Mas...</td>\n",
       "      <td>Typing Master is a typing assistance applicati...</td>\n",
       "    </tr>\n",
       "    <tr>\n",
       "      <th>15117</th>\n",
       "      <td>Uniblue DriverScanner</td>\n",
       "      <td>Uniblue Systems</td>\n",
       "      <td>Utilities</td>\n",
       "      <td>Drivers are necessary for establishing a conne...</td>\n",
       "      <td>Simple and straightforward interface. Updates ...</td>\n",
       "      <td>https://media.getintopc.com/2013/02/138376-140...</td>\n",
       "      <td>Drivers are necessary for establishing a conne...</td>\n",
       "    </tr>\n",
       "    <tr>\n",
       "      <th>15119</th>\n",
       "      <td>TeamViewer 8</td>\n",
       "      <td>TeamViewer Inc</td>\n",
       "      <td>Utilities</td>\n",
       "      <td>TeamViewer 8 is an application which will let ...</td>\n",
       "      <td>Can control distant computers remotely via int...</td>\n",
       "      <td>https://media.getintopc.com/2013/02/TeamViewer...</td>\n",
       "      <td>TeamViewer 8 is an application which will let ...</td>\n",
       "    </tr>\n",
       "  </tbody>\n",
       "</table>\n",
       "<p>8939 rows × 7 columns</p>\n",
       "</div>"
      ],
      "text/plain": [
       "                                name                 developer       category  \\\n",
       "1      Paragon APFS for Windows 2024  Paragon APFS for Windows      Softwares   \n",
       "3            Topaz Gigapixel AI 2024           Topaz Gigapixel  Photo Editing   \n",
       "4               Navicat Premium 2024                   Navicat   3D Designing   \n",
       "5              Arqcom CAD-Earth 2024                Arqcom CAD         3D CAD   \n",
       "7      Paragon APFS for Windows 2024  Paragon APFS for Windows      Softwares   \n",
       "...                              ...                       ...            ...   \n",
       "15109          Autodesk 3ds Max 2014                  Autodesk    Development   \n",
       "15113          TuneUp Utilities 2013          AVG Technologies      Utilities   \n",
       "15116                  Typing Master         Typing Master Inc      Softwares   \n",
       "15117          Uniblue DriverScanner           Uniblue Systems      Utilities   \n",
       "15119                   TeamViewer 8            TeamViewer Inc      Utilities   \n",
       "\n",
       "                                                    desc  \\\n",
       "1      Paragon APFS for Windows 2024 is a professiona...   \n",
       "3      Topaz Gigapixel AI 2024 is a professional phot...   \n",
       "4      Navicat Premium 2024 is a powerful and effecti...   \n",
       "5      Arqcom CAD-Earth 2024 is a professional applic...   \n",
       "7      Paragon APFS for Windows 2024 is a professiona...   \n",
       "...                                                  ...   \n",
       "15109  This application has two different versions. O...   \n",
       "15113  TuneUp Utilities 2013 is an application that c...   \n",
       "15116  Typing Master is a typing assistance applicati...   \n",
       "15117  Drivers are necessary for establishing a conne...   \n",
       "15119  TeamViewer 8 is an application which will let ...   \n",
       "\n",
       "                                                features  \\\n",
       "1      Allows you to browse, read and write files on ...   \n",
       "3      Allows you to easily increase the resolution o...   \n",
       "4      Allows you to easily and quickly connect to a ...   \n",
       "5      Allows you to import and export graphical data...   \n",
       "7      Allows you to browse, read and write files on ...   \n",
       "...                                                  ...   \n",
       "15109  It is the most complete 3D modeling software. ...   \n",
       "15113  Cleans your system from unnecessary files. Boo...   \n",
       "15116  Easy to use. One of the most efficient typing ...   \n",
       "15117  Simple and straightforward interface. Updates ...   \n",
       "15119  Can control distant computers remotely via int...   \n",
       "\n",
       "                                                img_link  \\\n",
       "1      https://media.getintopc.com/2024/06/Paragon-AP...   \n",
       "3      https://media.getintopc.com/2024/07/Topaz-Giga...   \n",
       "4      https://media.getintopc.com/2024/06/Navicat-Pr...   \n",
       "5      https://media.getintopc.com/2024/07/Arqcom-CAD...   \n",
       "7      https://media.getintopc.com/2024/06/Paragon-AP...   \n",
       "...                                                  ...   \n",
       "15109  https://media.getintopc.com/2013/07/download-3...   \n",
       "15113  https://media.getintopc.com/2013/03/TuneUp-Uti...   \n",
       "15116  https://media.getintopc.com/2013/02/Typing-Mas...   \n",
       "15117  https://media.getintopc.com/2013/02/138376-140...   \n",
       "15119  https://media.getintopc.com/2013/02/TeamViewer...   \n",
       "\n",
       "                                                    tags  \n",
       "1      Paragon APFS for Windows 2024 is a professiona...  \n",
       "3      Topaz Gigapixel AI 2024 is a professional phot...  \n",
       "4      Navicat Premium 2024 is a powerful and effecti...  \n",
       "5      Arqcom CAD-Earth 2024 is a professional applic...  \n",
       "7      Paragon APFS for Windows 2024 is a professiona...  \n",
       "...                                                  ...  \n",
       "15109  This application has two different versions. O...  \n",
       "15113  TuneUp Utilities 2013 is an application that c...  \n",
       "15116  Typing Master is a typing assistance applicati...  \n",
       "15117  Drivers are necessary for establishing a conne...  \n",
       "15119  TeamViewer 8 is an application which will let ...  \n",
       "\n",
       "[8939 rows x 7 columns]"
      ]
     },
     "execution_count": 162,
     "metadata": {},
     "output_type": "execute_result"
    }
   ],
   "source": [
    "print(top_10_df.shape)\n",
    "top_10_df"
   ]
  },
  {
   "cell_type": "code",
   "execution_count": 173,
   "id": "b54c604e",
   "metadata": {},
   "outputs": [],
   "source": [
    "top_10_df.reset_index().to_csv('nlp_df.csv')"
   ]
  },
  {
   "cell_type": "code",
   "execution_count": null,
   "id": "28e78518",
   "metadata": {},
   "outputs": [],
   "source": []
  },
  {
   "cell_type": "code",
   "execution_count": null,
   "id": "e3d6a149",
   "metadata": {},
   "outputs": [],
   "source": []
  }
 ],
 "metadata": {
  "kernelspec": {
   "display_name": "Python 3",
   "language": "python",
   "name": "python3"
  },
  "language_info": {
   "codemirror_mode": {
    "name": "ipython",
    "version": 3
   },
   "file_extension": ".py",
   "mimetype": "text/x-python",
   "name": "python",
   "nbconvert_exporter": "python",
   "pygments_lexer": "ipython3",
   "version": "3.12.4"
  }
 },
 "nbformat": 4,
 "nbformat_minor": 5
}
